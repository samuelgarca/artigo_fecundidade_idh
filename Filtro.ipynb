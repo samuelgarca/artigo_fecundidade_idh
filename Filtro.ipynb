{
 "cells": [
  {
   "cell_type": "code",
   "execution_count": 1,
   "id": "d53b2314",
   "metadata": {},
   "outputs": [],
   "source": [
    "########## CÉLULA 1 #######################################################################################\n",
    "# library import\n",
    "import pandas as pd\n",
    "import seaborn as sn\n",
    "import pandas\n",
    "import numpy\n",
    "import scipy\n",
    "import random\n",
    "import statsmodels as sm\n",
    "import csv\n",
    "from matplotlib import pyplot\n",
    "from random import randint\n",
    "import statsmodels.formula.api as smf\n",
    "import statistics\n",
    "from statsmodels.stats.diagnostic import het_white"
   ]
  },
  {
   "cell_type": "code",
   "execution_count": 2,
   "id": "4e024112",
   "metadata": {},
   "outputs": [],
   "source": [
    "########## CÉLULA 2 #######################################################################################\n",
    "# Importação e leitura dos dados\n",
    "renda_per_capita = pd.read_csv(\"renda_per_capita.csv\", sep=\";\")\n",
    "fecundidade = pd.read_csv(\"taxa_fecun.csv\", sep=\";\")\n",
    "idh = pd.read_csv(\"idh.csv\", sep=\";\")"
   ]
  },
  {
   "cell_type": "code",
   "execution_count": 3,
   "id": "0b2e439b",
   "metadata": {},
   "outputs": [
    {
     "data": {
      "text/html": [
       "<div>\n",
       "<style scoped>\n",
       "    .dataframe tbody tr th:only-of-type {\n",
       "        vertical-align: middle;\n",
       "    }\n",
       "\n",
       "    .dataframe tbody tr th {\n",
       "        vertical-align: top;\n",
       "    }\n",
       "\n",
       "    .dataframe thead th {\n",
       "        text-align: right;\n",
       "    }\n",
       "</style>\n",
       "<table border=\"1\" class=\"dataframe\">\n",
       "  <thead>\n",
       "    <tr style=\"text-align: right;\">\n",
       "      <th></th>\n",
       "      <th>Estado</th>\n",
       "      <th>Codigo</th>\n",
       "      <th>Municipio</th>\n",
       "      <th>Fec_1991</th>\n",
       "      <th>Fec_2000</th>\n",
       "    </tr>\n",
       "  </thead>\n",
       "  <tbody>\n",
       "    <tr>\n",
       "      <th>0</th>\n",
       "      <td>Sigla</td>\n",
       "      <td>Código</td>\n",
       "      <td>Município</td>\n",
       "      <td>1991</td>\n",
       "      <td>2000</td>\n",
       "    </tr>\n",
       "    <tr>\n",
       "      <th>1</th>\n",
       "      <td>AC</td>\n",
       "      <td>1200013</td>\n",
       "      <td>Acrelândia</td>\n",
       "      <td>4,887</td>\n",
       "      <td>4,355</td>\n",
       "    </tr>\n",
       "    <tr>\n",
       "      <th>2</th>\n",
       "      <td>AC</td>\n",
       "      <td>1200054</td>\n",
       "      <td>Assis Brasil</td>\n",
       "      <td>6,02</td>\n",
       "      <td>3,133</td>\n",
       "    </tr>\n",
       "    <tr>\n",
       "      <th>3</th>\n",
       "      <td>AC</td>\n",
       "      <td>1200104</td>\n",
       "      <td>Brasiléia</td>\n",
       "      <td>3,588</td>\n",
       "      <td>3,057</td>\n",
       "    </tr>\n",
       "    <tr>\n",
       "      <th>4</th>\n",
       "      <td>AC</td>\n",
       "      <td>1200138</td>\n",
       "      <td>Bujari</td>\n",
       "      <td>5,427</td>\n",
       "      <td>3,483</td>\n",
       "    </tr>\n",
       "  </tbody>\n",
       "</table>\n",
       "</div>"
      ],
      "text/plain": [
       "  Estado   Codigo     Municipio Fec_1991 Fec_2000\n",
       "0  Sigla   Código     Município     1991     2000\n",
       "1     AC  1200013    Acrelândia    4,887    4,355\n",
       "2     AC  1200054  Assis Brasil     6,02    3,133\n",
       "3     AC  1200104     Brasiléia    3,588    3,057\n",
       "4     AC  1200138        Bujari    5,427    3,483"
      ]
     },
     "execution_count": 3,
     "metadata": {},
     "output_type": "execute_result"
    }
   ],
   "source": [
    "########## CÉLULA 3 #######################################################################################\n",
    "## Reanomeando as colunas para melhor trabalhar\n",
    "fecundidade.rename(columns={'Taxa de fecundidade':'Estado','Unnamed: 1':'Codigo','Unnamed: 2':'Municipio','Unnamed: 3':'Fec_1991','Unnamed: 4':'Fec_2000'}, inplace = True)\n",
    "fecundidade.drop([0])\n",
    "fecundidade.head()"
   ]
  },
  {
   "cell_type": "code",
   "execution_count": 6,
   "id": "cd72464b",
   "metadata": {},
   "outputs": [
    {
     "name": "stdout",
     "output_type": "stream",
     "text": [
      "O número do sorteio foi 0 e a macrorregião equivalente a essa linha foi Sul\n"
     ]
    }
   ],
   "source": [
    "macrorregioes = [\"Norte\", \"Nordeste\", \"Centro-Oeste\", \"Sudeste\", \"Sul\"]\n",
    "num_sorteio=randint(0,4 )    ## Gera aleatoriamente um número entre 0 e 4 para identificar a macro região\n",
    "random.shuffle(macrorregioes) ## Embaralha a lista de macro regioes\n",
    "macro_sel=macrorregioes[num_sorteio] ## Seleciona a macro região esolhida\n",
    "print(\"O número do sorteio foi\",num_sorteio,\"e a macrorregião equivalente a essa linha foi\",macro_sel)"
   ]
  },
  {
   "cell_type": "code",
   "execution_count": 34,
   "id": "f4b5de82",
   "metadata": {},
   "outputs": [],
   "source": [
    "########## CÉLULA 4 #######################################################################################\n",
    "## Parte referente ao Sorteio da amostra.\n",
    "#estados = [\"Acre\", \"Alagoas\",  \"Amapá\", \"Amazonas\", \"Bahia\", \"Ceará\", \"Espírito Santo\", \"Goiás\", \"Maranhão\", \"Mato Grosso\", \"Mato Grosso do Sul\", \"Minas Gerais\", \"Pará\", \"Paraíba\", \"Paraná\", \"Pernambuco\", \"Piauí\", \"Rio de Janeiro\", \"Rio Grande do Norte\", \"Rio Grande do Sul\", \"Rondônia\", \"Roraima\", \"Santa Catarina\", \"São Paulo\", \"Sergipe\", \"Tocantins\", \"Distrito Federal\"]\n",
    "#num_sorteio=randint(0,26 )    ## Gera aleatoriamente um número entre 0 e 26 para identificar o estado\n",
    "#random.shuffle(estados)       ## Embaralha a lista de estados\n",
    "#estado_sel=estados[num_sorteio] ##Seleciona o estado escolhido\n",
    "#print(\"O número do sorteio foi\",num_sorteio,\"e o estado equivalente a essa linha foi\",estado_sel)"
   ]
  },
  {
   "cell_type": "code",
   "execution_count": 35,
   "id": "632d2e89",
   "metadata": {},
   "outputs": [],
   "source": [
    "########## CÉLULA 5 #######################################################################################\n",
    "#amostra_estados_fecun=fecundidade.loc[fecundidade['Estado']==\"PR\"] ##Seleciona a amostra do conjuto de estado"
   ]
  },
  {
   "cell_type": "code",
   "execution_count": 36,
   "id": "596173b8",
   "metadata": {},
   "outputs": [
    {
     "name": "stdout",
     "output_type": "stream",
     "text": [
      "     Estado   Codigo         Municipio Fec_1991 Fec_2000\n",
      "3942     RS  4300034            Aceguá      NaN      NaN\n",
      "3943     RS  4300059        Água Santa    2,691     2,29\n",
      "3944     RS  4300109             Agudo    2,741    2,367\n",
      "3945     RS  4300208         Ajuricaba    2,302     2,19\n",
      "3946     RS  4300307           Alecrim    2,555    2,531\n",
      "...     ...      ...               ...      ...      ...\n",
      "3609     PR  4128807            Xambrê    2,293    2,205\n",
      "3610     PR  4199919  Assunguy de Cima      NaN      NaN\n",
      "3611     PR  4199929           Conchas      NaN      NaN\n",
      "3612     PR  4199939           Palmira      NaN      NaN\n",
      "3613     PR  4199949     Porto de Cima      NaN      NaN\n",
      "\n",
      "[1198 rows x 5 columns]\n"
     ]
    }
   ],
   "source": [
    "RSe=fecundidade.loc[fecundidade['Estado']==\"RS\"] ##Seleciona a amostra do conjuto de estado\n",
    "SCe=fecundidade.loc[fecundidade['Estado']==\"SC\"] ##Seleciona a amostra do conjuto de estado\n",
    "PRe=fecundidade.loc[fecundidade['Estado']==\"PR\"] ##Seleciona a amostra do conjuto de estado\n",
    "fecun_concat=[RSe, SCe, PRe]\n",
    "amostra_estados_fecun = pd.concat(fecun_concat)\n",
    "print(amostra_estados_fecun)"
   ]
  },
  {
   "cell_type": "code",
   "execution_count": 31,
   "id": "8fab053f",
   "metadata": {},
   "outputs": [
    {
     "name": "stdout",
     "output_type": "stream",
     "text": [
      "     Estado   Codigo            Municipio rend_1991 rend_2000\n",
      "3211     PR  4100103               Abatiá   120,158   148,918\n",
      "3212     PR  4100202         Adrianópolis   104,586   115,595\n",
      "3213     PR  4100301        Agudos do Sul   112,375   153,986\n",
      "3214     PR  4100400  Almirante Tamandaré   151,597   197,645\n",
      "3215     PR  4100459   Altamira do Paraná    82,256   122,746\n",
      "...     ...      ...                  ...       ...       ...\n",
      "3609     PR  4128807               Xambrê    98,957   178,026\n",
      "3610     PR  4199919     Assunguy de Cima       NaN       NaN\n",
      "3611     PR  4199929              Conchas       NaN       NaN\n",
      "3612     PR  4199939              Palmira       NaN       NaN\n",
      "3613     PR  4199949        Porto de Cima       NaN       NaN\n",
      "\n",
      "[403 rows x 5 columns]\n"
     ]
    }
   ],
   "source": [
    "########## CÉLULA 6 #######################################################################################\n",
    "## Renomeando os dados referente a renda\n",
    "renda_per_capita.rename(columns={'Renda per capita':'Estado','Unnamed: 1':'Codigo','Unnamed: 2':'Municipio','Unnamed: 3':'rend_1991','Unnamed: 4':'rend_2000'}, inplace = True)\n",
    "renda_per_capita.drop([0])\n",
    "amostra_estados_renda=renda_per_capita.loc[renda_per_capita['Estado']==\"PR\"] ##Seleciona a amostra do conjuto de estados\n",
    "print(amostra_estados_renda)"
   ]
  },
  {
   "cell_type": "code",
   "execution_count": 37,
   "id": "5cd8bdde",
   "metadata": {},
   "outputs": [
    {
     "name": "stdout",
     "output_type": "stream",
     "text": [
      "     Estado   Codigo         Municipio idh_1991 idh_2000\n",
      "3211     PR  4100103            Abatiá    0,651     0,71\n",
      "4441     SC  4200051     Abdon Batista     0,67    0,774\n",
      "4442     SC  4200101      Abelardo Luz    0,697    0,785\n",
      "3942     RS  4300034            Aceguá      NaN      NaN\n",
      "3212     PR  4100202      Adrianópolis    0,613    0,683\n",
      "...     ...      ...               ...      ...      ...\n",
      "4447     SC  4200556       Águas Frias    0,688    0,799\n",
      "4448     SC  4200606      Águas Mornas    0,695    0,783\n",
      "4446     SC  4200507  Águas de Chapecó    0,672    0,781\n",
      "3970     RS  4301552             Áurea    0,688    0,742\n",
      "3224     PR  4101150            Ângulo    0,658    0,742\n",
      "\n",
      "[1198 rows x 5 columns]\n"
     ]
    }
   ],
   "source": [
    "########## CÉLULA 7 #######################################################################################\n",
    "#################### IDH ###################\n",
    "idh.rename(columns={'Índice de Desenvolvimento Humano Municipal-ed 2003':'Estado','Unnamed: 1':'Codigo','Unnamed: 2':'Municipio','Unnamed: 3':'idh_1991','Unnamed: 4':'idh_2000'}, inplace = True)\n",
    "idh.drop([0])\n",
    "RSi=idh.loc[idh['Estado']==\"RS\"] ##Seleciona a amostra do conjuto de estado\n",
    "SCi=idh.loc[idh['Estado']==\"SC\"] ##Seleciona a amostra do conjuto de estado\n",
    "PRi=idh.loc[idh['Estado']==\"PR\"] ##Seleciona a amostra do conjuto de estado\n",
    "idh_concat=[RSi, SCi, PRi]\n",
    "amostra_estados_idh = pd.concat(idh_concat)\n",
    "#amostra_estados_idh=idh.loc[idh['Estado']==\"PR\"] ##Seleciona a amostra do conjuto de estados\n",
    "mun_idh=amostra_estados_idh.sort_values('Municipio', ascending = True) ##Colocando em ordem alfabética\n",
    "var_idh=mun_idh.idh_2000\n",
    "print(mun_idh)"
   ]
  },
  {
   "cell_type": "code",
   "execution_count": 38,
   "id": "3c8ae090",
   "metadata": {},
   "outputs": [],
   "source": [
    "########## CÉLULA 8 #######################################################################################\n",
    "mun_renda=amostra_estados_renda.sort_values('Municipio', ascending = True) ##Colocando em ordem alfabética\n",
    "mun_fecun=amostra_estados_fecun.sort_values('Municipio', ascending = True)"
   ]
  },
  {
   "cell_type": "code",
   "execution_count": 52,
   "id": "86cecd65",
   "metadata": {},
   "outputs": [
    {
     "name": "stdout",
     "output_type": "stream",
     "text": [
      "     Estado   Codigo         Municipio Fec_1991 Fec_2000\n",
      "3211     PR  4100103            Abatiá    2,718    2,603\n",
      "4441     SC  4200051     Abdon Batista    2,607      2,5\n",
      "4442     SC  4200101      Abelardo Luz    2,333     2,35\n",
      "3942     RS  4300034            Aceguá      NaN      NaN\n",
      "3212     PR  4100202      Adrianópolis    4,181     3,21\n",
      "...     ...      ...               ...      ...      ...\n",
      "4447     SC  4200556       Águas Frias    2,932     2,67\n",
      "4448     SC  4200606      Águas Mornas    3,405    2,966\n",
      "4446     SC  4200507  Águas de Chapecó    3,411    3,382\n",
      "3970     RS  4301552             Áurea     2,22    2,221\n",
      "3224     PR  4101150            Ângulo    2,572      2,5\n",
      "\n",
      "[1198 rows x 5 columns]\n",
      "     Estado   Codigo         Municipio idh_1991 idh_2000\n",
      "3211     PR  4100103            Abatiá    0,651     0,71\n",
      "4441     SC  4200051     Abdon Batista     0,67    0,774\n",
      "4442     SC  4200101      Abelardo Luz    0,697    0,785\n",
      "3942     RS  4300034            Aceguá      NaN      NaN\n",
      "3212     PR  4100202      Adrianópolis    0,613    0,683\n",
      "...     ...      ...               ...      ...      ...\n",
      "4447     SC  4200556       Águas Frias    0,688    0,799\n",
      "4448     SC  4200606      Águas Mornas    0,695    0,783\n",
      "4446     SC  4200507  Águas de Chapecó    0,672    0,781\n",
      "3970     RS  4301552             Áurea    0,688    0,742\n",
      "3224     PR  4101150            Ângulo    0,658    0,742\n",
      "\n",
      "[1198 rows x 5 columns]\n"
     ]
    }
   ],
   "source": [
    "########## CÉLULA 9 #######################################################################################\n",
    "#print(mun_renda)\n",
    "print(mun_fecun)\n",
    "print(mun_idh)"
   ]
  },
  {
   "cell_type": "code",
   "execution_count": 53,
   "id": "bb059699",
   "metadata": {},
   "outputs": [],
   "source": [
    "########## CÉLULA 10 #######################################################################################\n",
    "var_tx_fecundidade=mun_fecun.Fec_2000\n",
    "var_renda_per_capita=mun_renda.rend_2000\n",
    "#pd.to_numeric(var_tx_fecundidade, errors='ignore')\n",
    "#pd.to_numeric(var_renda_per_capita, errors='ignore')"
   ]
  },
  {
   "cell_type": "code",
   "execution_count": 54,
   "id": "1bbb7897",
   "metadata": {},
   "outputs": [
    {
     "name": "stdout",
     "output_type": "stream",
     "text": [
      "0       2,603\n",
      "1         2,5\n",
      "2        2,35\n",
      "3         NaN\n",
      "4        3,21\n",
      "        ...  \n",
      "1193     2,67\n",
      "1194    2,966\n",
      "1195    3,382\n",
      "1196    2,221\n",
      "1197      2,5\n",
      "Name: Fec_2000, Length: 1198, dtype: object\n"
     ]
    }
   ],
   "source": [
    "########## CÉLULA 11 #######################################################################################\n",
    "var_tx_fecundidade.reset_index(inplace=True, drop=True)\n",
    "var_renda_per_capita.reset_index(inplace=True, drop=True)\n",
    "print(var_tx_fecundidade)\n",
    "#print(var_idh)"
   ]
  },
  {
   "cell_type": "code",
   "execution_count": 55,
   "id": "b3974f5b",
   "metadata": {},
   "outputs": [
    {
     "data": {
      "text/plain": [
       "count     1159\n",
       "unique     612\n",
       "top       2,07\n",
       "freq        21\n",
       "Name: Fec_2000, dtype: object"
      ]
     },
     "execution_count": 55,
     "metadata": {},
     "output_type": "execute_result"
    }
   ],
   "source": [
    "########## CÉLULA 12 #######################################################################################\n",
    "var_tx_fecundidade.describe()"
   ]
  },
  {
   "cell_type": "code",
   "execution_count": 56,
   "id": "d56bbeed",
   "metadata": {},
   "outputs": [
    {
     "data": {
      "text/html": [
       "<div>\n",
       "<style scoped>\n",
       "    .dataframe tbody tr th:only-of-type {\n",
       "        vertical-align: middle;\n",
       "    }\n",
       "\n",
       "    .dataframe tbody tr th {\n",
       "        vertical-align: top;\n",
       "    }\n",
       "\n",
       "    .dataframe thead th {\n",
       "        text-align: right;\n",
       "    }\n",
       "</style>\n",
       "<table border=\"1\" class=\"dataframe\">\n",
       "  <thead>\n",
       "    <tr style=\"text-align: right;\">\n",
       "      <th></th>\n",
       "      <th>Tx_Fecun</th>\n",
       "      <th>idh_2000</th>\n",
       "    </tr>\n",
       "  </thead>\n",
       "  <tbody>\n",
       "    <tr>\n",
       "      <th>0</th>\n",
       "      <td>2,603</td>\n",
       "      <td>0,71</td>\n",
       "    </tr>\n",
       "    <tr>\n",
       "      <th>1</th>\n",
       "      <td>2,5</td>\n",
       "      <td>0,774</td>\n",
       "    </tr>\n",
       "    <tr>\n",
       "      <th>2</th>\n",
       "      <td>2,35</td>\n",
       "      <td>0,785</td>\n",
       "    </tr>\n",
       "    <tr>\n",
       "      <th>3</th>\n",
       "      <td>NaN</td>\n",
       "      <td>NaN</td>\n",
       "    </tr>\n",
       "    <tr>\n",
       "      <th>4</th>\n",
       "      <td>3,21</td>\n",
       "      <td>0,683</td>\n",
       "    </tr>\n",
       "    <tr>\n",
       "      <th>...</th>\n",
       "      <td>...</td>\n",
       "      <td>...</td>\n",
       "    </tr>\n",
       "    <tr>\n",
       "      <th>1193</th>\n",
       "      <td>2,67</td>\n",
       "      <td>0,799</td>\n",
       "    </tr>\n",
       "    <tr>\n",
       "      <th>1194</th>\n",
       "      <td>2,966</td>\n",
       "      <td>0,783</td>\n",
       "    </tr>\n",
       "    <tr>\n",
       "      <th>1195</th>\n",
       "      <td>3,382</td>\n",
       "      <td>0,781</td>\n",
       "    </tr>\n",
       "    <tr>\n",
       "      <th>1196</th>\n",
       "      <td>2,221</td>\n",
       "      <td>0,742</td>\n",
       "    </tr>\n",
       "    <tr>\n",
       "      <th>1197</th>\n",
       "      <td>2,5</td>\n",
       "      <td>0,742</td>\n",
       "    </tr>\n",
       "  </tbody>\n",
       "</table>\n",
       "<p>1198 rows × 2 columns</p>\n",
       "</div>"
      ],
      "text/plain": [
       "     Tx_Fecun idh_2000\n",
       "0       2,603     0,71\n",
       "1         2,5    0,774\n",
       "2        2,35    0,785\n",
       "3         NaN      NaN\n",
       "4        3,21    0,683\n",
       "...       ...      ...\n",
       "1193     2,67    0,799\n",
       "1194    2,966    0,783\n",
       "1195    3,382    0,781\n",
       "1196    2,221    0,742\n",
       "1197      2,5    0,742\n",
       "\n",
       "[1198 rows x 2 columns]"
      ]
     },
     "metadata": {},
     "output_type": "display_data"
    }
   ],
   "source": [
    "########## CÉLULA 13 #######################################################################################\n",
    "df = pd.DataFrame(list(zip(var_tx_fecundidade,var_idh)), columns = ['Tx_Fecun','idh_2000']) ## Agrupa as variáveis\n",
    "display(df)"
   ]
  },
  {
   "cell_type": "code",
   "execution_count": 57,
   "id": "540e091b",
   "metadata": {},
   "outputs": [
    {
     "name": "stdout",
     "output_type": "stream",
     "text": [
      "<class 'pandas.core.frame.DataFrame'>\n",
      "<class 'pandas.core.frame.DataFrame'>\n",
      "RangeIndex: 1198 entries, 0 to 1197\n",
      "Data columns (total 2 columns):\n",
      " #   Column    Non-Null Count  Dtype  \n",
      "---  ------    --------------  -----  \n",
      " 0   Tx_Fecun  1159 non-null   float64\n",
      " 1   idh_2000  1159 non-null   float64\n",
      "dtypes: float64(2)\n",
      "memory usage: 18.8 KB\n"
     ]
    },
    {
     "data": {
      "text/html": [
       "<div>\n",
       "<style scoped>\n",
       "    .dataframe tbody tr th:only-of-type {\n",
       "        vertical-align: middle;\n",
       "    }\n",
       "\n",
       "    .dataframe tbody tr th {\n",
       "        vertical-align: top;\n",
       "    }\n",
       "\n",
       "    .dataframe thead th {\n",
       "        text-align: right;\n",
       "    }\n",
       "</style>\n",
       "<table border=\"1\" class=\"dataframe\">\n",
       "  <thead>\n",
       "    <tr style=\"text-align: right;\">\n",
       "      <th></th>\n",
       "      <th>Tx_Fecun</th>\n",
       "      <th>idh_2000</th>\n",
       "    </tr>\n",
       "  </thead>\n",
       "  <tbody>\n",
       "    <tr>\n",
       "      <th>0</th>\n",
       "      <td>2.603</td>\n",
       "      <td>0.710</td>\n",
       "    </tr>\n",
       "    <tr>\n",
       "      <th>1</th>\n",
       "      <td>2.500</td>\n",
       "      <td>0.774</td>\n",
       "    </tr>\n",
       "    <tr>\n",
       "      <th>2</th>\n",
       "      <td>2.350</td>\n",
       "      <td>0.785</td>\n",
       "    </tr>\n",
       "    <tr>\n",
       "      <th>3</th>\n",
       "      <td>NaN</td>\n",
       "      <td>NaN</td>\n",
       "    </tr>\n",
       "    <tr>\n",
       "      <th>4</th>\n",
       "      <td>3.210</td>\n",
       "      <td>0.683</td>\n",
       "    </tr>\n",
       "    <tr>\n",
       "      <th>...</th>\n",
       "      <td>...</td>\n",
       "      <td>...</td>\n",
       "    </tr>\n",
       "    <tr>\n",
       "      <th>1193</th>\n",
       "      <td>2.670</td>\n",
       "      <td>0.799</td>\n",
       "    </tr>\n",
       "    <tr>\n",
       "      <th>1194</th>\n",
       "      <td>2.966</td>\n",
       "      <td>0.783</td>\n",
       "    </tr>\n",
       "    <tr>\n",
       "      <th>1195</th>\n",
       "      <td>3.382</td>\n",
       "      <td>0.781</td>\n",
       "    </tr>\n",
       "    <tr>\n",
       "      <th>1196</th>\n",
       "      <td>2.221</td>\n",
       "      <td>0.742</td>\n",
       "    </tr>\n",
       "    <tr>\n",
       "      <th>1197</th>\n",
       "      <td>2.500</td>\n",
       "      <td>0.742</td>\n",
       "    </tr>\n",
       "  </tbody>\n",
       "</table>\n",
       "<p>1198 rows × 2 columns</p>\n",
       "</div>"
      ],
      "text/plain": [
       "      Tx_Fecun  idh_2000\n",
       "0        2.603     0.710\n",
       "1        2.500     0.774\n",
       "2        2.350     0.785\n",
       "3          NaN       NaN\n",
       "4        3.210     0.683\n",
       "...        ...       ...\n",
       "1193     2.670     0.799\n",
       "1194     2.966     0.783\n",
       "1195     3.382     0.781\n",
       "1196     2.221     0.742\n",
       "1197     2.500     0.742\n",
       "\n",
       "[1198 rows x 2 columns]"
      ]
     },
     "metadata": {},
     "output_type": "display_data"
    }
   ],
   "source": [
    "########## CÉLULA 14 #######################################################################################\n",
    "df['Tx_Fecun'] = df['Tx_Fecun'].str.replace(',', '.') ##Substituindo vírgula por ponto\n",
    "df['idh_2000'] = df['idh_2000'].str.replace(',', '.') ##Substituindo vírgula por ponto\n",
    "print(type(df))\n",
    "df['Tx_Fecun'] = df['Tx_Fecun'].astype(float)         ##Convertendo em float\n",
    "df['idh_2000'] = df['idh_2000'].astype(float)         ##Convertendo em float\n",
    "df.info()\n",
    "display(df)"
   ]
  },
  {
   "cell_type": "code",
   "execution_count": 58,
   "id": "17434ec2",
   "metadata": {},
   "outputs": [],
   "source": [
    "########## CÉLULA 15 #######################################################################################\n",
    "df['Tx_Fecun_log']= numpy.log2(df['Tx_Fecun']) # Aplica log de base2\n"
   ]
  },
  {
   "cell_type": "code",
   "execution_count": 59,
   "id": "8dcace6c",
   "metadata": {},
   "outputs": [
    {
     "data": {
      "text/html": [
       "<div>\n",
       "<style scoped>\n",
       "    .dataframe tbody tr th:only-of-type {\n",
       "        vertical-align: middle;\n",
       "    }\n",
       "\n",
       "    .dataframe tbody tr th {\n",
       "        vertical-align: top;\n",
       "    }\n",
       "\n",
       "    .dataframe thead th {\n",
       "        text-align: right;\n",
       "    }\n",
       "</style>\n",
       "<table border=\"1\" class=\"dataframe\">\n",
       "  <thead>\n",
       "    <tr style=\"text-align: right;\">\n",
       "      <th></th>\n",
       "      <th>Tx_Fecun</th>\n",
       "      <th>idh_2000</th>\n",
       "      <th>Tx_Fecun_log</th>\n",
       "    </tr>\n",
       "  </thead>\n",
       "  <tbody>\n",
       "    <tr>\n",
       "      <th>0</th>\n",
       "      <td>2.603</td>\n",
       "      <td>0.710</td>\n",
       "      <td>1.380175</td>\n",
       "    </tr>\n",
       "    <tr>\n",
       "      <th>1</th>\n",
       "      <td>2.500</td>\n",
       "      <td>0.774</td>\n",
       "      <td>1.321928</td>\n",
       "    </tr>\n",
       "    <tr>\n",
       "      <th>2</th>\n",
       "      <td>2.350</td>\n",
       "      <td>0.785</td>\n",
       "      <td>1.232661</td>\n",
       "    </tr>\n",
       "    <tr>\n",
       "      <th>3</th>\n",
       "      <td>NaN</td>\n",
       "      <td>NaN</td>\n",
       "      <td>NaN</td>\n",
       "    </tr>\n",
       "    <tr>\n",
       "      <th>4</th>\n",
       "      <td>3.210</td>\n",
       "      <td>0.683</td>\n",
       "      <td>1.682573</td>\n",
       "    </tr>\n",
       "  </tbody>\n",
       "</table>\n",
       "</div>"
      ],
      "text/plain": [
       "   Tx_Fecun  idh_2000  Tx_Fecun_log\n",
       "0     2.603     0.710      1.380175\n",
       "1     2.500     0.774      1.321928\n",
       "2     2.350     0.785      1.232661\n",
       "3       NaN       NaN           NaN\n",
       "4     3.210     0.683      1.682573"
      ]
     },
     "execution_count": 59,
     "metadata": {},
     "output_type": "execute_result"
    }
   ],
   "source": [
    "########## CÉLULA 16 #######################################################################################\n",
    "df.head()"
   ]
  },
  {
   "cell_type": "code",
   "execution_count": 60,
   "id": "2d15a387",
   "metadata": {},
   "outputs": [
    {
     "data": {
      "image/png": "[encoded data removed]",
      "text/plain": [
       "<Figure size 432x288 with 1 Axes>"
      ]
     },
     "metadata": {
      "needs_background": "light"
     },
     "output_type": "display_data"
    },
    {
     "data": {
      "text/html": [
       "<div>\n",
       "<style scoped>\n",
       "    .dataframe tbody tr th:only-of-type {\n",
       "        vertical-align: middle;\n",
       "    }\n",
       "\n",
       "    .dataframe tbody tr th {\n",
       "        vertical-align: top;\n",
       "    }\n",
       "\n",
       "    .dataframe thead th {\n",
       "        text-align: right;\n",
       "    }\n",
       "</style>\n",
       "<table border=\"1\" class=\"dataframe\">\n",
       "  <thead>\n",
       "    <tr style=\"text-align: right;\">\n",
       "      <th></th>\n",
       "      <th>Tx_Fecun</th>\n",
       "      <th>idh_2000</th>\n",
       "      <th>Tx_Fecun_log</th>\n",
       "    </tr>\n",
       "  </thead>\n",
       "  <tbody>\n",
       "    <tr>\n",
       "      <th>count</th>\n",
       "      <td>1159.000000</td>\n",
       "      <td>1159.000000</td>\n",
       "      <td>1159.000000</td>\n",
       "    </tr>\n",
       "    <tr>\n",
       "      <th>mean</th>\n",
       "      <td>2.492422</td>\n",
       "      <td>0.770532</td>\n",
       "      <td>1.301690</td>\n",
       "    </tr>\n",
       "    <tr>\n",
       "      <th>std</th>\n",
       "      <td>0.382988</td>\n",
       "      <td>0.043214</td>\n",
       "      <td>0.210804</td>\n",
       "    </tr>\n",
       "    <tr>\n",
       "      <th>min</th>\n",
       "      <td>1.676000</td>\n",
       "      <td>0.620000</td>\n",
       "      <td>0.745022</td>\n",
       "    </tr>\n",
       "    <tr>\n",
       "      <th>25%</th>\n",
       "      <td>2.205000</td>\n",
       "      <td>0.741000</td>\n",
       "      <td>1.140779</td>\n",
       "    </tr>\n",
       "    <tr>\n",
       "      <th>50%</th>\n",
       "      <td>2.420000</td>\n",
       "      <td>0.773000</td>\n",
       "      <td>1.275007</td>\n",
       "    </tr>\n",
       "    <tr>\n",
       "      <th>75%</th>\n",
       "      <td>2.712000</td>\n",
       "      <td>0.803000</td>\n",
       "      <td>1.439357</td>\n",
       "    </tr>\n",
       "    <tr>\n",
       "      <th>max</th>\n",
       "      <td>4.301000</td>\n",
       "      <td>0.875000</td>\n",
       "      <td>2.104672</td>\n",
       "    </tr>\n",
       "  </tbody>\n",
       "</table>\n",
       "</div>"
      ],
      "text/plain": [
       "          Tx_Fecun     idh_2000  Tx_Fecun_log\n",
       "count  1159.000000  1159.000000   1159.000000\n",
       "mean      2.492422     0.770532      1.301690\n",
       "std       0.382988     0.043214      0.210804\n",
       "min       1.676000     0.620000      0.745022\n",
       "25%       2.205000     0.741000      1.140779\n",
       "50%       2.420000     0.773000      1.275007\n",
       "75%       2.712000     0.803000      1.439357\n",
       "max       4.301000     0.875000      2.104672"
      ]
     },
     "execution_count": 60,
     "metadata": {},
     "output_type": "execute_result"
    }
   ],
   "source": [
    "########## CÉLULA 17 #######################################################################################\n",
    "pyplot.hist(df['Tx_Fecun'], color='red', bins=15)\n",
    "pyplot.title('Histograma da variável resposta')\n",
    "pyplot.xlabel(\"Fecundidade\")\n",
    "pyplot.ylabel(\"Frequência\")\n",
    "pyplot.show()\n",
    "df.describe()"
   ]
  },
  {
   "cell_type": "code",
   "execution_count": 61,
   "id": "b1a9bdbe",
   "metadata": {},
   "outputs": [
    {
     "ename": "NameError",
     "evalue": "name 'dflog' is not defined",
     "output_type": "error",
     "traceback": [
      "\u001b[1;31m---------------------------------------------------------------------------\u001b[0m",
      "\u001b[1;31mNameError\u001b[0m                                 Traceback (most recent call last)",
      "\u001b[1;32m~\\AppData\\Local\\Temp/ipykernel_5924/1183359644.py\u001b[0m in \u001b[0;36m<module>\u001b[1;34m\u001b[0m\n\u001b[0;32m      4\u001b[0m \u001b[0mpyplot\u001b[0m\u001b[1;33m.\u001b[0m\u001b[0mxlabel\u001b[0m\u001b[1;33m(\u001b[0m\u001b[1;34m\"Log² Fecundidade\"\u001b[0m\u001b[1;33m)\u001b[0m\u001b[1;33m\u001b[0m\u001b[1;33m\u001b[0m\u001b[0m\n\u001b[0;32m      5\u001b[0m \u001b[0mpyplot\u001b[0m\u001b[1;33m.\u001b[0m\u001b[0mylabel\u001b[0m\u001b[1;33m(\u001b[0m\u001b[1;34m\"Frequência\"\u001b[0m\u001b[1;33m)\u001b[0m\u001b[1;33m\u001b[0m\u001b[1;33m\u001b[0m\u001b[0m\n\u001b[1;32m----> 6\u001b[1;33m \u001b[0mdflog\u001b[0m\u001b[1;33m.\u001b[0m\u001b[0mdescribe\u001b[0m\u001b[1;33m(\u001b[0m\u001b[1;33m)\u001b[0m\u001b[1;33m\u001b[0m\u001b[1;33m\u001b[0m\u001b[0m\n\u001b[0m\u001b[0;32m      7\u001b[0m \u001b[0mpyplot\u001b[0m\u001b[1;33m.\u001b[0m\u001b[0mshow\u001b[0m\u001b[1;33m(\u001b[0m\u001b[1;33m)\u001b[0m\u001b[1;33m\u001b[0m\u001b[1;33m\u001b[0m\u001b[0m\n\u001b[0;32m      8\u001b[0m \u001b[1;31m#dflog.describe()\u001b[0m\u001b[1;33m\u001b[0m\u001b[1;33m\u001b[0m\u001b[0m\n",
      "\u001b[1;31mNameError\u001b[0m: name 'dflog' is not defined"
     ]
    },
    {
     "data": {
      "image/png": "[encoded data removed]",
      "text/plain": [
       "<Figure size 432x288 with 1 Axes>"
      ]
     },
     "metadata": {
      "needs_background": "light"
     },
     "output_type": "display_data"
    }
   ],
   "source": [
    "########## CÉLULA 18 #######################################################################################\n",
    "pyplot.hist(df['Tx_Fecun_log'], color='blue', bins=15)\n",
    "pyplot.title('Histograma da variável resposta em Log 2')\n",
    "pyplot.xlabel(\"Log² Fecundidade\")\n",
    "pyplot.ylabel(\"Frequência\")\n",
    "dflog.describe()\n",
    "pyplot.show()\n",
    "#dflog.describe()\n"
   ]
  },
  {
   "cell_type": "code",
   "execution_count": 63,
   "id": "868c5836",
   "metadata": {},
   "outputs": [
    {
     "data": {
      "text/html": [
       "<table class=\"simpletable\">\n",
       "<caption>OLS Regression Results</caption>\n",
       "<tr>\n",
       "  <th>Dep. Variable:</th>      <td>Tx_Fecun_log</td>   <th>  R-squared:         </th> <td>   0.309</td>\n",
       "</tr>\n",
       "<tr>\n",
       "  <th>Model:</th>                   <td>OLS</td>       <th>  Adj. R-squared:    </th> <td>   0.309</td>\n",
       "</tr>\n",
       "<tr>\n",
       "  <th>Method:</th>             <td>Least Squares</td>  <th>  F-statistic:       </th> <td>   518.4</td>\n",
       "</tr>\n",
       "<tr>\n",
       "  <th>Date:</th>             <td>Tue, 05 Jul 2022</td> <th>  Prob (F-statistic):</th> <td>4.02e-95</td>\n",
       "</tr>\n",
       "<tr>\n",
       "  <th>Time:</th>                 <td>15:46:01</td>     <th>  Log-Likelihood:    </th> <td>  374.87</td>\n",
       "</tr>\n",
       "<tr>\n",
       "  <th>No. Observations:</th>      <td>  1159</td>      <th>  AIC:               </th> <td>  -745.7</td>\n",
       "</tr>\n",
       "<tr>\n",
       "  <th>Df Residuals:</th>          <td>  1157</td>      <th>  BIC:               </th> <td>  -735.6</td>\n",
       "</tr>\n",
       "<tr>\n",
       "  <th>Df Model:</th>              <td>     1</td>      <th>                     </th>     <td> </td>   \n",
       "</tr>\n",
       "<tr>\n",
       "  <th>Covariance Type:</th>      <td>nonrobust</td>    <th>                     </th>     <td> </td>   \n",
       "</tr>\n",
       "</table>\n",
       "<table class=\"simpletable\">\n",
       "<tr>\n",
       "      <td></td>         <th>coef</th>     <th>std err</th>      <th>t</th>      <th>P>|t|</th>  <th>[0.025</th>    <th>0.975]</th>  \n",
       "</tr>\n",
       "<tr>\n",
       "  <th>Intercept</th> <td>    3.3925</td> <td>    0.092</td> <td>   36.886</td> <td> 0.000</td> <td>    3.212</td> <td>    3.573</td>\n",
       "</tr>\n",
       "<tr>\n",
       "  <th>idh_2000</th>  <td>   -2.7135</td> <td>    0.119</td> <td>  -22.769</td> <td> 0.000</td> <td>   -2.947</td> <td>   -2.480</td>\n",
       "</tr>\n",
       "</table>\n",
       "<table class=\"simpletable\">\n",
       "<tr>\n",
       "  <th>Omnibus:</th>       <td>73.292</td> <th>  Durbin-Watson:     </th> <td>   1.932</td>\n",
       "</tr>\n",
       "<tr>\n",
       "  <th>Prob(Omnibus):</th> <td> 0.000</td> <th>  Jarque-Bera (JB):  </th> <td>  87.760</td>\n",
       "</tr>\n",
       "<tr>\n",
       "  <th>Skew:</th>          <td> 0.613</td> <th>  Prob(JB):          </th> <td>8.77e-20</td>\n",
       "</tr>\n",
       "<tr>\n",
       "  <th>Kurtosis:</th>      <td> 3.559</td> <th>  Cond. No.          </th> <td>    36.9</td>\n",
       "</tr>\n",
       "</table><br/><br/>Notes:<br/>[1] Standard Errors assume that the covariance matrix of the errors is correctly specified."
      ],
      "text/plain": [
       "<class 'statsmodels.iolib.summary.Summary'>\n",
       "\"\"\"\n",
       "                            OLS Regression Results                            \n",
       "==============================================================================\n",
       "Dep. Variable:           Tx_Fecun_log   R-squared:                       0.309\n",
       "Model:                            OLS   Adj. R-squared:                  0.309\n",
       "Method:                 Least Squares   F-statistic:                     518.4\n",
       "Date:                Tue, 05 Jul 2022   Prob (F-statistic):           4.02e-95\n",
       "Time:                        15:46:01   Log-Likelihood:                 374.87\n",
       "No. Observations:                1159   AIC:                            -745.7\n",
       "Df Residuals:                    1157   BIC:                            -735.6\n",
       "Df Model:                           1                                         \n",
       "Covariance Type:            nonrobust                                         \n",
       "==============================================================================\n",
       "                 coef    std err          t      P>|t|      [0.025      0.975]\n",
       "------------------------------------------------------------------------------\n",
       "Intercept      3.3925      0.092     36.886      0.000       3.212       3.573\n",
       "idh_2000      -2.7135      0.119    -22.769      0.000      -2.947      -2.480\n",
       "==============================================================================\n",
       "Omnibus:                       73.292   Durbin-Watson:                   1.932\n",
       "Prob(Omnibus):                  0.000   Jarque-Bera (JB):               87.760\n",
       "Skew:                           0.613   Prob(JB):                     8.77e-20\n",
       "Kurtosis:                       3.559   Cond. No.                         36.9\n",
       "==============================================================================\n",
       "\n",
       "Notes:\n",
       "[1] Standard Errors assume that the covariance matrix of the errors is correctly specified.\n",
       "\"\"\""
      ]
     },
     "execution_count": 63,
     "metadata": {},
     "output_type": "execute_result"
    }
   ],
   "source": [
    "########## CÉLULA 19 #######################################################################################\n",
    "modelo = smf.ols('Tx_Fecun_log ~ idh_2000', df)\n",
    "#modelo = smf.ols('Renda_per_capita ~ Tx_Fecun', df)\n",
    "resultado = modelo.fit()\n",
    "resultado.summary()"
   ]
  },
  {
   "cell_type": "code",
   "execution_count": 64,
   "id": "d60deef9",
   "metadata": {},
   "outputs": [
    {
     "data": {
      "text/plain": [
       "Intercept    3.392548\n",
       "idh_2000    -2.713525\n",
       "dtype: float64"
      ]
     },
     "execution_count": 64,
     "metadata": {},
     "output_type": "execute_result"
    }
   ],
   "source": [
    "########## CÉLULA 20 #######################################################################################\n",
    "resultado.params ### Parâmetro do Modelo"
   ]
  },
  {
   "cell_type": "code",
   "execution_count": 65,
   "id": "35ccb988",
   "metadata": {},
   "outputs": [
    {
     "name": "stdout",
     "output_type": "stream",
     "text": [
      "0       1.485960\n",
      "1       1.247624\n",
      "2       1.206660\n",
      "3            NaN\n",
      "4       1.586508\n",
      "          ...   \n",
      "1193    1.154524\n",
      "1194    1.214108\n",
      "1195    1.221556\n",
      "1196    1.366792\n",
      "1197    1.366792\n",
      "Name: idh_2000, Length: 1198, dtype: float64\n"
     ]
    }
   ],
   "source": [
    "########## CÉLULA 21 #######################################################################################\n",
    "## FEC_IDH = 4,130 -3,724*IDH *\n",
    "y=4.130-3.724*df['idh_2000']\n",
    "print(y)"
   ]
  },
  {
   "cell_type": "code",
   "execution_count": 66,
   "id": "f66404e2",
   "metadata": {},
   "outputs": [
    {
     "data": {
      "image/png": "[encoded data removed]",
      "text/plain": [
       "<Figure size 432x288 with 1 Axes>"
      ]
     },
     "metadata": {
      "needs_background": "light"
     },
     "output_type": "display_data"
    },
    {
     "data": {
      "text/plain": [
       "count    1159.000000\n",
       "mean        0.041152\n",
       "std         0.180539\n",
       "min        -0.474213\n",
       "25%        -0.075954\n",
       "50%         0.026134\n",
       "75%         0.153135\n",
       "max         0.748759\n",
       "dtype: float64"
      ]
     },
     "execution_count": 66,
     "metadata": {},
     "output_type": "execute_result"
    }
   ],
   "source": [
    "########## CÉLULA 22 #######################################################################################\n",
    "residuos=df['Tx_Fecun_log'] - y\n",
    "pyplot.hist(residuos, color='orange', bins=15)\n",
    "pyplot.title('Histograma dos resíduos da regressão')\n",
    "pyplot.show()\n",
    "residuos.describe()"
   ]
  },
  {
   "cell_type": "code",
   "execution_count": 67,
   "id": "c211f3ce",
   "metadata": {},
   "outputs": [
    {
     "name": "stdout",
     "output_type": "stream",
     "text": [
      "Jarque_beraResult(statistic=nan, pvalue=nan)\n"
     ]
    }
   ],
   "source": [
    "########## CÉLULA 23 #######################################################################################\n",
    "jarque_b = scipy.stats.jarque_bera(df['idh_2000'])\n",
    "print(jarque_b)"
   ]
  },
  {
   "cell_type": "code",
   "execution_count": 68,
   "id": "212a9757",
   "metadata": {},
   "outputs": [
    {
     "data": {
      "text/plain": [
       "0.2418701327108257"
      ]
     },
     "execution_count": 68,
     "metadata": {},
     "output_type": "execute_result"
    }
   ],
   "source": [
    "########## CÉLULA 24 #######################################################################################\n",
    "residuos.corr(df['idh_2000'])\n",
    "#0.000042288\n"
   ]
  },
  {
   "cell_type": "code",
   "execution_count": 69,
   "id": "8e0c38dd",
   "metadata": {},
   "outputs": [
    {
     "name": "stdout",
     "output_type": "stream",
     "text": [
      "nan\n"
     ]
    }
   ],
   "source": [
    "########## CÉLULA 25 #######################################################################################\n",
    "var_res= statistics.variance(residuos)\n",
    "print(var_res)"
   ]
  },
  {
   "cell_type": "code",
   "execution_count": 70,
   "id": "50a9ffbb",
   "metadata": {},
   "outputs": [
    {
     "data": {
      "text/plain": [
       "<matplotlib.collections.PathCollection at 0x18aa67d4670>"
      ]
     },
     "execution_count": 70,
     "metadata": {},
     "output_type": "execute_result"
    },
    {
     "data": {
      "image/png": "[encoded data removed]",
      "text/plain": [
       "<Figure size 720x432 with 1 Axes>"
      ]
     },
     "metadata": {
      "needs_background": "light"
     },
     "output_type": "display_data"
    }
   ],
   "source": [
    "########## CÉLULA 26 #######################################################################################\n",
    "#pyplot.figure(figsize=(20,5))\n",
    "#plt.scatter(x, y, s=area, c=colors, alpha=0.5)\n",
    "pyplot.figure(figsize=(10, 6))\n",
    "pyplot.title(\"Gráfico Dispersão IDH X Fecundidade\")\n",
    "pyplot.xlabel(\"IDH\")\n",
    "pyplot.ylabel(\"Fecundidade\")\n",
    "pyplot.scatter(df['idh_2000'], df['Tx_Fecun'], s=100, c='green', alpha=0.6)\n",
    "#print(df['Tx_Fecun'])\n",
    "#print(var_idh)"
   ]
  },
  {
   "cell_type": "code",
   "execution_count": 71,
   "id": "ff26041e",
   "metadata": {},
   "outputs": [
    {
     "data": {
      "text/plain": [
       "-0.5436698583116771"
      ]
     },
     "execution_count": 71,
     "metadata": {},
     "output_type": "execute_result"
    }
   ],
   "source": [
    "########## CÉLULA 26 #######################################################################################\n",
    "df['idh_2000'].corr(df['Tx_Fecun'])"
   ]
  },
  {
   "cell_type": "code",
   "execution_count": 28,
   "id": "a78715c3",
   "metadata": {},
   "outputs": [],
   "source": [
    "########## CÉLULA 27 #######################################################################################\n",
    "test=fecundidade['Municipio']\n"
   ]
  },
  {
   "cell_type": "code",
   "execution_count": 29,
   "id": "41a8b46b",
   "metadata": {},
   "outputs": [
    {
     "data": {
      "image/png": "[encoded data removed]",
      "text/plain": [
       "<Figure size 432x288 with 1 Axes>"
      ]
     },
     "metadata": {
      "needs_background": "light"
     },
     "output_type": "display_data"
    },
    {
     "name": "stdout",
     "output_type": "stream",
     "text": [
      "0     -0.120820\n",
      "1     -0.152423\n",
      "2      0.171471\n",
      "3     -0.046107\n",
      "4      0.263191\n",
      "         ...   \n",
      "641    0.184779\n",
      "642   -0.302958\n",
      "643   -0.112550\n",
      "644    0.042468\n",
      "645   -0.006422\n",
      "Length: 645, dtype: float64\n",
      "0     -0.120612\n",
      "1     -0.152211\n",
      "2      0.171686\n",
      "3     -0.045892\n",
      "4      0.263415\n",
      "         ...   \n",
      "641    0.184965\n",
      "642   -0.302739\n",
      "643   -0.112332\n",
      "644    0.042696\n",
      "645   -0.006202\n",
      "Length: 646, dtype: float64\n"
     ]
    }
   ],
   "source": [
    "########## CÉLULA 28 #######################################################################################\n",
    "uhat=resultado.resid\n",
    "pyplot.hist(uhat, color='orange', bins=15)\n",
    "pyplot.title('Histograma dos resíduos da regressão')\n",
    "pyplot.show()\n",
    "print(uhat)\n",
    "print(residuos)\n"
   ]
  },
  {
   "cell_type": "code",
   "execution_count": 30,
   "id": "5d43541e",
   "metadata": {},
   "outputs": [
    {
     "ename": "NameError",
     "evalue": "name 'dflog' is not defined",
     "output_type": "error",
     "traceback": [
      "\u001b[1;31m---------------------------------------------------------------------------\u001b[0m",
      "\u001b[1;31mNameError\u001b[0m                                 Traceback (most recent call last)",
      "\u001b[1;32m~\\AppData\\Local\\Temp/ipykernel_2516/2030795460.py\u001b[0m in \u001b[0;36m<module>\u001b[1;34m\u001b[0m\n\u001b[0;32m      1\u001b[0m \u001b[1;31m########## CÉLULA 29 #######################################################################################\u001b[0m\u001b[1;33m\u001b[0m\u001b[1;33m\u001b[0m\u001b[0m\n\u001b[1;32m----> 2\u001b[1;33m \u001b[0mpyplot\u001b[0m\u001b[1;33m.\u001b[0m\u001b[0mhist\u001b[0m\u001b[1;33m(\u001b[0m\u001b[0mdflog\u001b[0m\u001b[1;33m,\u001b[0m \u001b[0mcolor\u001b[0m\u001b[1;33m=\u001b[0m\u001b[1;34m'blue'\u001b[0m\u001b[1;33m,\u001b[0m \u001b[0mbins\u001b[0m\u001b[1;33m=\u001b[0m\u001b[1;36m15\u001b[0m\u001b[1;33m)\u001b[0m\u001b[1;33m\u001b[0m\u001b[1;33m\u001b[0m\u001b[0m\n\u001b[0m\u001b[0;32m      3\u001b[0m \u001b[0mpyplot\u001b[0m\u001b[1;33m.\u001b[0m\u001b[0mtitle\u001b[0m\u001b[1;33m(\u001b[0m\u001b[1;34m'Histograma da variável resposta em Log 2'\u001b[0m\u001b[1;33m)\u001b[0m\u001b[1;33m\u001b[0m\u001b[1;33m\u001b[0m\u001b[0m\n\u001b[0;32m      4\u001b[0m \u001b[0mpyplot\u001b[0m\u001b[1;33m.\u001b[0m\u001b[0mxlabel\u001b[0m\u001b[1;33m(\u001b[0m\u001b[1;34m\"Log² Fecundidade\"\u001b[0m\u001b[1;33m)\u001b[0m\u001b[1;33m\u001b[0m\u001b[1;33m\u001b[0m\u001b[0m\n\u001b[0;32m      5\u001b[0m \u001b[0mpyplot\u001b[0m\u001b[1;33m.\u001b[0m\u001b[0mylabel\u001b[0m\u001b[1;33m(\u001b[0m\u001b[1;34m\"Frequência\"\u001b[0m\u001b[1;33m)\u001b[0m\u001b[1;33m\u001b[0m\u001b[1;33m\u001b[0m\u001b[0m\n",
      "\u001b[1;31mNameError\u001b[0m: name 'dflog' is not defined"
     ]
    }
   ],
   "source": [
    "########## CÉLULA 29 #######################################################################################\n",
    "pyplot.hist(dflog, color='blue', bins=15)\n",
    "pyplot.title('Histograma da variável resposta em Log 2')\n",
    "pyplot.xlabel(\"Log² Fecundidade\")\n",
    "pyplot.ylabel(\"Frequência\")\n",
    "dflog.describe()\n",
    "pyplot.show()\n",
    "dflog.describe()\n"
   ]
  },
  {
   "cell_type": "code",
   "execution_count": 389,
   "id": "ac89bb7e",
   "metadata": {},
   "outputs": [
    {
     "data": {
      "image/png": "[encoded data removed]",
      "text/plain": [
       "<Figure size 432x288 with 1 Axes>"
      ]
     },
     "metadata": {
      "needs_background": "light"
     },
     "output_type": "display_data"
    },
    {
     "data": {
      "text/plain": [
       "count    645.000000\n",
       "mean       0.779149\n",
       "std        0.033818\n",
       "min        0.645000\n",
       "25%        0.758000\n",
       "50%        0.779000\n",
       "75%        0.802000\n",
       "max        0.919000\n",
       "Name: idh_2000, dtype: float64"
      ]
     },
     "execution_count": 389,
     "metadata": {},
     "output_type": "execute_result"
    }
   ],
   "source": [
    "########## CÉLULA 30 #######################################################################################\n",
    "pyplot.hist(df['idh_2000'], color='blue', bins=15)\n",
    "pyplot.title('Histograma da variável Independente')\n",
    "pyplot.xlabel(\"IDH\")\n",
    "pyplot.ylabel(\"Frequência\")\n",
    "dflog.describe()\n",
    "pyplot.show()\n",
    "df['idh_2000'].describe()\n"
   ]
  },
  {
   "cell_type": "code",
   "execution_count": 406,
   "id": "525dd05a",
   "metadata": {},
   "outputs": [
    {
     "name": "stdout",
     "output_type": "stream",
     "text": [
      "{'Test Statistic': 40.99951766671461, 'Test Statistic p-value': 1.2504543979145963e-09, 'F-Statistic': 21.789461359657142, 'F-Test p-value': 6.987152564760855e-10}\n"
     ]
    }
   ],
   "source": [
    "########## CÉLULA 31 #######################################################################################\n",
    "white_test = het_white(resultado.resid,  resultado.model.exog)\n",
    "labels = ['Test Statistic', 'Test Statistic p-value', 'F-Statistic', 'F-Test p-value']\n",
    "print(dict(zip(labels, white_test)))\n"
   ]
  },
  {
   "cell_type": "code",
   "execution_count": null,
   "id": "6333ed85",
   "metadata": {},
   "outputs": [],
   "source": []
  }
 ],
 "metadata": {
  "kernelspec": {
   "display_name": "Python 3 (ipykernel)",
   "language": "python",
   "name": "python3"
  },
  "language_info": {
   "codemirror_mode": {
    "name": "ipython",
    "version": 3
   },
   "file_extension": ".py",
   "mimetype": "text/x-python",
   "name": "python",
   "nbconvert_exporter": "python",
   "pygments_lexer": "ipython3",
   "version": "3.9.7"
  }
 },
 "nbformat": 4,
 "nbformat_minor": 5
}
