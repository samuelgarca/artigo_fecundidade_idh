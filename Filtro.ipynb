{
 "cells": [
  {
   "cell_type": "code",
   "execution_count": 1,
   "id": "d53b2314",
   "metadata": {},
   "outputs": [],
   "source": [
    "# library import\n",
    "import pandas as pd\n",
    "import seaborn as sn\n",
    "import pandas\n",
    "import numpy\n",
    "import scipy\n",
    "import random\n",
    "import statsmodels as sm\n",
    "import csv\n",
    "from matplotlib import pyplot\n",
    "from random import randint\n",
    "import statsmodels.formula.api as smf"
   ]
  },
  {
   "cell_type": "code",
   "execution_count": 2,
   "id": "4e024112",
   "metadata": {},
   "outputs": [],
   "source": [
    "# leitura dos dados\n",
    "renda_per_capita = pd.read_csv(\"renda_per_capita.csv\", sep=\";\")\n",
    "fecundidade = pd.read_csv(\"taxa_fecun.csv\", sep=\";\")\n",
    "idh = pd.read_csv(\"idh.csv\", sep=\";\")"
   ]
  },
  {
   "cell_type": "code",
   "execution_count": 3,
   "id": "0b2e439b",
   "metadata": {},
   "outputs": [
    {
     "data": {
      "text/html": [
       "<div>\n",
       "<style scoped>\n",
       "    .dataframe tbody tr th:only-of-type {\n",
       "        vertical-align: middle;\n",
       "    }\n",
       "\n",
       "    .dataframe tbody tr th {\n",
       "        vertical-align: top;\n",
       "    }\n",
       "\n",
       "    .dataframe thead th {\n",
       "        text-align: right;\n",
       "    }\n",
       "</style>\n",
       "<table border=\"1\" class=\"dataframe\">\n",
       "  <thead>\n",
       "    <tr style=\"text-align: right;\">\n",
       "      <th></th>\n",
       "      <th>Estado</th>\n",
       "      <th>Codigo</th>\n",
       "      <th>Municipio</th>\n",
       "      <th>Fec_1991</th>\n",
       "      <th>Fec_2000</th>\n",
       "    </tr>\n",
       "  </thead>\n",
       "  <tbody>\n",
       "    <tr>\n",
       "      <th>0</th>\n",
       "      <td>Sigla</td>\n",
       "      <td>Código</td>\n",
       "      <td>Município</td>\n",
       "      <td>1991</td>\n",
       "      <td>2000</td>\n",
       "    </tr>\n",
       "    <tr>\n",
       "      <th>1</th>\n",
       "      <td>AC</td>\n",
       "      <td>1200013</td>\n",
       "      <td>Acrelândia</td>\n",
       "      <td>4,887</td>\n",
       "      <td>4,355</td>\n",
       "    </tr>\n",
       "    <tr>\n",
       "      <th>2</th>\n",
       "      <td>AC</td>\n",
       "      <td>1200054</td>\n",
       "      <td>Assis Brasil</td>\n",
       "      <td>6,02</td>\n",
       "      <td>3,133</td>\n",
       "    </tr>\n",
       "    <tr>\n",
       "      <th>3</th>\n",
       "      <td>AC</td>\n",
       "      <td>1200104</td>\n",
       "      <td>Brasiléia</td>\n",
       "      <td>3,588</td>\n",
       "      <td>3,057</td>\n",
       "    </tr>\n",
       "    <tr>\n",
       "      <th>4</th>\n",
       "      <td>AC</td>\n",
       "      <td>1200138</td>\n",
       "      <td>Bujari</td>\n",
       "      <td>5,427</td>\n",
       "      <td>3,483</td>\n",
       "    </tr>\n",
       "  </tbody>\n",
       "</table>\n",
       "</div>"
      ],
      "text/plain": [
       "  Estado   Codigo     Municipio Fec_1991 Fec_2000\n",
       "0  Sigla   Código     Município     1991     2000\n",
       "1     AC  1200013    Acrelândia    4,887    4,355\n",
       "2     AC  1200054  Assis Brasil     6,02    3,133\n",
       "3     AC  1200104     Brasiléia    3,588    3,057\n",
       "4     AC  1200138        Bujari    5,427    3,483"
      ]
     },
     "execution_count": 3,
     "metadata": {},
     "output_type": "execute_result"
    }
   ],
   "source": [
    "fecundidade.rename(columns={'Taxa de fecundidade':'Estado','Unnamed: 1':'Codigo','Unnamed: 2':'Municipio','Unnamed: 3':'Fec_1991','Unnamed: 4':'Fec_2000'}, inplace = True)\n",
    "fecundidade.drop([0])\n",
    "fecundidade.head()"
   ]
  },
  {
   "cell_type": "code",
   "execution_count": 41,
   "id": "0b4f0422",
   "metadata": {},
   "outputs": [
    {
     "name": "stdout",
     "output_type": "stream",
     "text": [
      "O número do sorteio foi 5177 e o estado equivalente a essa linha foi SP\n"
     ]
    }
   ],
   "source": [
    "Sorteio=fecundidade.sort_values(by=['Estado'],inplace = True) #Embaralha as linhas correspondentes aos Estados aleatoriamente\n",
    "estados=fecundidade['Estado']\n",
    "num_sorteio=randint(0,5597 )    ## Gera aleatoriamente um número dentro do conjuto da população para identificar o estado \n",
    "                                ## no conjunto de dados\n",
    "estado_sel=estados[num_sorteio] ##Seleciona o estado escolhido\n",
    "amostra_estados_fecun=fecundidade.loc[fecundidade['Estado']==estado_sel] ##Seleciona a amostra do conjuto de estado\n",
    "print(\"O número do sorteio foi\",num_sorteio,\"e o estado equivalente a essa linha foi\",estado_sel)"
   ]
  },
  {
   "cell_type": "code",
   "execution_count": 42,
   "id": "8fab053f",
   "metadata": {},
   "outputs": [
    {
     "name": "stdout",
     "output_type": "stream",
     "text": [
      "     Estado   Codigo         Municipio rend_1991 rend_2000\n",
      "4812     SP  3500105        Adamantina   274,462   354,976\n",
      "4813     SP  3500204            Adolfo   188,474   238,019\n",
      "4814     SP  3500303             Aguaí    207,71   308,123\n",
      "4815     SP  3500402    Águas da Prata   264,161   337,636\n",
      "4816     SP  3500501  Águas de Lindóia   246,354   402,516\n",
      "...     ...      ...               ...       ...       ...\n",
      "5453     SP  3557105       Votuporanga   265,155   415,653\n",
      "5454     SP  3557154          Zacarias   153,055   195,161\n",
      "5455     SP  3557204         Chavantes   181,337   272,364\n",
      "5456     SP  3557303      Estiva Gerbi   222,336   249,702\n",
      "5457     SP  3599919       Santo Amaro       NaN       NaN\n",
      "\n",
      "[646 rows x 5 columns]\n"
     ]
    }
   ],
   "source": [
    "renda_per_capita.rename(columns={'Renda per capita':'Estado','Unnamed: 1':'Codigo','Unnamed: 2':'Municipio','Unnamed: 3':'rend_1991','Unnamed: 4':'rend_2000'}, inplace = True)\n",
    "renda_per_capita.drop([0])\n",
    "amostra_estados_renda=renda_per_capita.loc[renda_per_capita['Estado']==estado_sel] ##Seleciona a amostra do conjuto de estados\n",
    "print(amostra_estados_renda)"
   ]
  },
  {
   "cell_type": "code",
   "execution_count": 6,
   "id": "3c8ae090",
   "metadata": {},
   "outputs": [],
   "source": [
    "#print(amostra_estados_fecun)\n",
    "mun_renda=amostra_estados_renda.sort_values('Municipio', ascending = True) ##Colocando em ordem alfabética\n",
    "mun_fecun=amostra_estados_fecun.sort_values('Municipio', ascending = True)"
   ]
  },
  {
   "cell_type": "code",
   "execution_count": 7,
   "id": "86cecd65",
   "metadata": {},
   "outputs": [
    {
     "name": "stdout",
     "output_type": "stream",
     "text": [
      "    Estado   Codigo            Municipio rend_1991 rend_2000\n",
      "204     BA  2900207                Abaré    73,573    79,876\n",
      "203     BA  2900108               Abaíra    69,812   102,114\n",
      "205     BA  2900306            Acajutiba    69,378    80,284\n",
      "206     BA  2900355             Adustina    56,472    85,811\n",
      "209     BA  2900603              Aiquara    61,839    86,139\n",
      "..     ...      ...                  ...       ...       ...\n",
      "617     BA  2933455            Wanderley    62,077    90,943\n",
      "618     BA  2933505  Wenceslau Guimarães    56,088    67,532\n",
      "619     BA  2933604          Xique-Xique    62,238     73,31\n",
      "207     BA  2900405            Água Fria    39,392    58,146\n",
      "208     BA  2900504        Érico Cardoso    54,388     74,34\n",
      "\n",
      "[421 rows x 5 columns]\n",
      "    Estado   Codigo            Municipio Fec_1991 Fec_2000\n",
      "204     BA  2900207                Abaré    3,846    3,067\n",
      "203     BA  2900108               Abaíra    3,389     2,18\n",
      "205     BA  2900306            Acajutiba    4,127    3,085\n",
      "206     BA  2900355             Adustina    5,415    3,208\n",
      "209     BA  2900603              Aiquara    6,547     3,57\n",
      "..     ...      ...                  ...      ...      ...\n",
      "617     BA  2933455            Wanderley    6,071     3,07\n",
      "618     BA  2933505  Wenceslau Guimarães    4,192    3,001\n",
      "619     BA  2933604          Xique-Xique     5,21    3,837\n",
      "207     BA  2900405            Água Fria    5,374    2,841\n",
      "208     BA  2900504        Érico Cardoso    4,583    2,614\n",
      "\n",
      "[421 rows x 5 columns]\n"
     ]
    }
   ],
   "source": [
    "print(mun_renda)\n",
    "print(mun_fecun)"
   ]
  },
  {
   "cell_type": "code",
   "execution_count": 8,
   "id": "bb059699",
   "metadata": {},
   "outputs": [],
   "source": [
    "var_tx_fecundidade=mun_fecun.Fec_2000\n",
    "var_renda_per_capita=mun_renda.rend_2000\n",
    "#pd.to_numeric(var_tx_fecundidade, errors='ignore')\n",
    "#pd.to_numeric(var_renda_per_capita, errors='ignore')"
   ]
  },
  {
   "cell_type": "code",
   "execution_count": 9,
   "id": "1bbb7897",
   "metadata": {},
   "outputs": [
    {
     "name": "stdout",
     "output_type": "stream",
     "text": [
      "0      3,067\n",
      "1       2,18\n",
      "2      3,085\n",
      "3      3,208\n",
      "4       3,57\n",
      "       ...  \n",
      "416     3,07\n",
      "417    3,001\n",
      "418    3,837\n",
      "419    2,841\n",
      "420    2,614\n",
      "Name: Fec_2000, Length: 421, dtype: object\n"
     ]
    }
   ],
   "source": [
    "var_tx_fecundidade.reset_index(inplace=True, drop=True)\n",
    "var_renda_per_capita.reset_index(inplace=True, drop=True)\n",
    "print(var_tx_fecundidade)\n",
    "#print(var_idh)"
   ]
  },
  {
   "cell_type": "code",
   "execution_count": 10,
   "id": "b3974f5b",
   "metadata": {},
   "outputs": [
    {
     "data": {
      "text/plain": [
       "count      415\n",
       "unique     352\n",
       "top       2,38\n",
       "freq         5\n",
       "Name: Fec_2000, dtype: object"
      ]
     },
     "execution_count": 10,
     "metadata": {},
     "output_type": "execute_result"
    }
   ],
   "source": [
    "var_tx_fecundidade.describe()"
   ]
  },
  {
   "cell_type": "code",
   "execution_count": 11,
   "id": "3147095e",
   "metadata": {},
   "outputs": [
    {
     "name": "stdout",
     "output_type": "stream",
     "text": [
      "    Estado   Codigo            Municipio idh_1991 idh_2000\n",
      "204     BA  2900207                Abaré     0,51    0,595\n",
      "203     BA  2900108               Abaíra    0,591    0,681\n",
      "205     BA  2900306            Acajutiba    0,508    0,607\n",
      "206     BA  2900355             Adustina      0,4    0,551\n",
      "209     BA  2900603              Aiquara    0,507    0,627\n",
      "..     ...      ...                  ...      ...      ...\n",
      "617     BA  2933455            Wanderley    0,506    0,619\n",
      "618     BA  2933505  Wenceslau Guimarães    0,462    0,575\n",
      "619     BA  2933604          Xique-Xique    0,494     0,58\n",
      "207     BA  2900405            Água Fria    0,464    0,572\n",
      "208     BA  2900504        Érico Cardoso    0,512    0,592\n",
      "\n",
      "[421 rows x 5 columns]\n"
     ]
    }
   ],
   "source": [
    "#################### IDH ###################\n",
    "idh.rename(columns={'Índice de Desenvolvimento Humano Municipal-ed 2003':'Estado','Unnamed: 1':'Codigo','Unnamed: 2':'Municipio','Unnamed: 3':'idh_1991','Unnamed: 4':'idh_2000'}, inplace = True)\n",
    "idh.drop([0])\n",
    "amostra_estados_idh=idh.loc[idh['Estado']==estado_sel] ##Seleciona a amostra do conjuto de estados\n",
    "mun_idh=amostra_estados_idh.sort_values('Municipio', ascending = True)\n",
    "var_idh=mun_idh.idh_2000\n",
    "var_renda_per_capita.reset_index(inplace=True, drop=True)\n",
    "print(mun_idh)\n",
    "#idh.head()\n"
   ]
  },
  {
   "cell_type": "code",
   "execution_count": 12,
   "id": "d56bbeed",
   "metadata": {},
   "outputs": [
    {
     "data": {
      "text/html": [
       "<div>\n",
       "<style scoped>\n",
       "    .dataframe tbody tr th:only-of-type {\n",
       "        vertical-align: middle;\n",
       "    }\n",
       "\n",
       "    .dataframe tbody tr th {\n",
       "        vertical-align: top;\n",
       "    }\n",
       "\n",
       "    .dataframe thead th {\n",
       "        text-align: right;\n",
       "    }\n",
       "</style>\n",
       "<table border=\"1\" class=\"dataframe\">\n",
       "  <thead>\n",
       "    <tr style=\"text-align: right;\">\n",
       "      <th></th>\n",
       "      <th>Tx_Fecun</th>\n",
       "      <th>idh_2000</th>\n",
       "      <th>Renda_per_capita</th>\n",
       "    </tr>\n",
       "  </thead>\n",
       "  <tbody>\n",
       "    <tr>\n",
       "      <th>0</th>\n",
       "      <td>3,067</td>\n",
       "      <td>0,595</td>\n",
       "      <td>79,876</td>\n",
       "    </tr>\n",
       "    <tr>\n",
       "      <th>1</th>\n",
       "      <td>2,18</td>\n",
       "      <td>0,681</td>\n",
       "      <td>102,114</td>\n",
       "    </tr>\n",
       "    <tr>\n",
       "      <th>2</th>\n",
       "      <td>3,085</td>\n",
       "      <td>0,607</td>\n",
       "      <td>80,284</td>\n",
       "    </tr>\n",
       "    <tr>\n",
       "      <th>3</th>\n",
       "      <td>3,208</td>\n",
       "      <td>0,551</td>\n",
       "      <td>85,811</td>\n",
       "    </tr>\n",
       "    <tr>\n",
       "      <th>4</th>\n",
       "      <td>3,57</td>\n",
       "      <td>0,627</td>\n",
       "      <td>86,139</td>\n",
       "    </tr>\n",
       "    <tr>\n",
       "      <th>...</th>\n",
       "      <td>...</td>\n",
       "      <td>...</td>\n",
       "      <td>...</td>\n",
       "    </tr>\n",
       "    <tr>\n",
       "      <th>416</th>\n",
       "      <td>3,07</td>\n",
       "      <td>0,619</td>\n",
       "      <td>90,943</td>\n",
       "    </tr>\n",
       "    <tr>\n",
       "      <th>417</th>\n",
       "      <td>3,001</td>\n",
       "      <td>0,575</td>\n",
       "      <td>67,532</td>\n",
       "    </tr>\n",
       "    <tr>\n",
       "      <th>418</th>\n",
       "      <td>3,837</td>\n",
       "      <td>0,58</td>\n",
       "      <td>73,31</td>\n",
       "    </tr>\n",
       "    <tr>\n",
       "      <th>419</th>\n",
       "      <td>2,841</td>\n",
       "      <td>0,572</td>\n",
       "      <td>58,146</td>\n",
       "    </tr>\n",
       "    <tr>\n",
       "      <th>420</th>\n",
       "      <td>2,614</td>\n",
       "      <td>0,592</td>\n",
       "      <td>74,34</td>\n",
       "    </tr>\n",
       "  </tbody>\n",
       "</table>\n",
       "<p>421 rows × 3 columns</p>\n",
       "</div>"
      ],
      "text/plain": [
       "    Tx_Fecun idh_2000 Renda_per_capita\n",
       "0      3,067    0,595           79,876\n",
       "1       2,18    0,681          102,114\n",
       "2      3,085    0,607           80,284\n",
       "3      3,208    0,551           85,811\n",
       "4       3,57    0,627           86,139\n",
       "..       ...      ...              ...\n",
       "416     3,07    0,619           90,943\n",
       "417    3,001    0,575           67,532\n",
       "418    3,837     0,58            73,31\n",
       "419    2,841    0,572           58,146\n",
       "420    2,614    0,592            74,34\n",
       "\n",
       "[421 rows x 3 columns]"
      ]
     },
     "metadata": {},
     "output_type": "display_data"
    }
   ],
   "source": [
    "df = pd.DataFrame(list(zip(var_tx_fecundidade,var_idh,var_renda_per_capita)), columns = ['Tx_Fecun','idh_2000','Renda_per_capita'])\n",
    "display(df)"
   ]
  },
  {
   "cell_type": "code",
   "execution_count": 13,
   "id": "540e091b",
   "metadata": {},
   "outputs": [
    {
     "name": "stdout",
     "output_type": "stream",
     "text": [
      "<class 'pandas.core.frame.DataFrame'>\n",
      "<class 'pandas.core.frame.DataFrame'>\n",
      "RangeIndex: 421 entries, 0 to 420\n",
      "Data columns (total 3 columns):\n",
      " #   Column            Non-Null Count  Dtype  \n",
      "---  ------            --------------  -----  \n",
      " 0   Tx_Fecun          415 non-null    float64\n",
      " 1   idh_2000          415 non-null    float64\n",
      " 2   Renda_per_capita  415 non-null    float64\n",
      "dtypes: float64(3)\n",
      "memory usage: 10.0 KB\n"
     ]
    },
    {
     "data": {
      "text/html": [
       "<div>\n",
       "<style scoped>\n",
       "    .dataframe tbody tr th:only-of-type {\n",
       "        vertical-align: middle;\n",
       "    }\n",
       "\n",
       "    .dataframe tbody tr th {\n",
       "        vertical-align: top;\n",
       "    }\n",
       "\n",
       "    .dataframe thead th {\n",
       "        text-align: right;\n",
       "    }\n",
       "</style>\n",
       "<table border=\"1\" class=\"dataframe\">\n",
       "  <thead>\n",
       "    <tr style=\"text-align: right;\">\n",
       "      <th></th>\n",
       "      <th>Tx_Fecun</th>\n",
       "      <th>idh_2000</th>\n",
       "      <th>Renda_per_capita</th>\n",
       "    </tr>\n",
       "  </thead>\n",
       "  <tbody>\n",
       "    <tr>\n",
       "      <th>0</th>\n",
       "      <td>3.067</td>\n",
       "      <td>0.595</td>\n",
       "      <td>79.876</td>\n",
       "    </tr>\n",
       "    <tr>\n",
       "      <th>1</th>\n",
       "      <td>2.180</td>\n",
       "      <td>0.681</td>\n",
       "      <td>102.114</td>\n",
       "    </tr>\n",
       "    <tr>\n",
       "      <th>2</th>\n",
       "      <td>3.085</td>\n",
       "      <td>0.607</td>\n",
       "      <td>80.284</td>\n",
       "    </tr>\n",
       "    <tr>\n",
       "      <th>3</th>\n",
       "      <td>3.208</td>\n",
       "      <td>0.551</td>\n",
       "      <td>85.811</td>\n",
       "    </tr>\n",
       "    <tr>\n",
       "      <th>4</th>\n",
       "      <td>3.570</td>\n",
       "      <td>0.627</td>\n",
       "      <td>86.139</td>\n",
       "    </tr>\n",
       "    <tr>\n",
       "      <th>...</th>\n",
       "      <td>...</td>\n",
       "      <td>...</td>\n",
       "      <td>...</td>\n",
       "    </tr>\n",
       "    <tr>\n",
       "      <th>416</th>\n",
       "      <td>3.070</td>\n",
       "      <td>0.619</td>\n",
       "      <td>90.943</td>\n",
       "    </tr>\n",
       "    <tr>\n",
       "      <th>417</th>\n",
       "      <td>3.001</td>\n",
       "      <td>0.575</td>\n",
       "      <td>67.532</td>\n",
       "    </tr>\n",
       "    <tr>\n",
       "      <th>418</th>\n",
       "      <td>3.837</td>\n",
       "      <td>0.580</td>\n",
       "      <td>73.310</td>\n",
       "    </tr>\n",
       "    <tr>\n",
       "      <th>419</th>\n",
       "      <td>2.841</td>\n",
       "      <td>0.572</td>\n",
       "      <td>58.146</td>\n",
       "    </tr>\n",
       "    <tr>\n",
       "      <th>420</th>\n",
       "      <td>2.614</td>\n",
       "      <td>0.592</td>\n",
       "      <td>74.340</td>\n",
       "    </tr>\n",
       "  </tbody>\n",
       "</table>\n",
       "<p>421 rows × 3 columns</p>\n",
       "</div>"
      ],
      "text/plain": [
       "     Tx_Fecun  idh_2000  Renda_per_capita\n",
       "0       3.067     0.595            79.876\n",
       "1       2.180     0.681           102.114\n",
       "2       3.085     0.607            80.284\n",
       "3       3.208     0.551            85.811\n",
       "4       3.570     0.627            86.139\n",
       "..        ...       ...               ...\n",
       "416     3.070     0.619            90.943\n",
       "417     3.001     0.575            67.532\n",
       "418     3.837     0.580            73.310\n",
       "419     2.841     0.572            58.146\n",
       "420     2.614     0.592            74.340\n",
       "\n",
       "[421 rows x 3 columns]"
      ]
     },
     "metadata": {},
     "output_type": "display_data"
    }
   ],
   "source": [
    "#pd.set_option(\"display.max_rows\", None, \"display.max_columns\", None)\n",
    "#pd.to_numeric(df)\n",
    "df['Tx_Fecun'] = df['Tx_Fecun'].str.replace(',', '.') ##Substituindo vírgula por ponto\n",
    "df['idh_2000'] = df['idh_2000'].str.replace(',', '.') ##Substituindo vírgula por ponto\n",
    "df['Renda_per_capita'] = df['Renda_per_capita'].str.replace(',', '.')  ################# RENDA_PER_CAPITA\n",
    "print(type(df))\n",
    "df['Tx_Fecun'] = df['Tx_Fecun'].astype(float)         ##Convertendo em float\n",
    "df['idh_2000'] = df['idh_2000'].astype(float)         ##Convertendo em float\n",
    "df['Renda_per_capita'] = df['Renda_per_capita'].astype(float)           ################# RENDA_PER_CAPITA\n",
    "df.info()\n",
    "display(df)"
   ]
  },
  {
   "cell_type": "code",
   "execution_count": 14,
   "id": "17434ec2",
   "metadata": {},
   "outputs": [],
   "source": [
    "dflog = numpy.log2(df['Tx_Fecun'])"
   ]
  },
  {
   "cell_type": "code",
   "execution_count": 15,
   "id": "2d15a387",
   "metadata": {},
   "outputs": [
    {
     "data": {
      "image/png": "[encoded data removed]",
      "text/plain": [
       "<Figure size 432x288 with 1 Axes>"
      ]
     },
     "metadata": {
      "needs_background": "light"
     },
     "output_type": "display_data"
    }
   ],
   "source": [
    "pyplot.hist(dflog, color='blue', bins=15)\n",
    "pyplot.title('Histograma da variável resposta em Log 2')\n",
    "pyplot.xlabel(\"Log² Fecundidade\")\n",
    "pyplot.ylabel(\"Frequência\")\n",
    "pyplot.show()\n"
   ]
  },
  {
   "cell_type": "code",
   "execution_count": 16,
   "id": "66b74a17",
   "metadata": {},
   "outputs": [
    {
     "data": {
      "image/png": "[encoded data removed]",
      "text/plain": [
       "<Figure size 432x288 with 1 Axes>"
      ]
     },
     "metadata": {
      "needs_background": "light"
     },
     "output_type": "display_data"
    },
    {
     "data": {
      "text/html": [
       "<div>\n",
       "<style scoped>\n",
       "    .dataframe tbody tr th:only-of-type {\n",
       "        vertical-align: middle;\n",
       "    }\n",
       "\n",
       "    .dataframe tbody tr th {\n",
       "        vertical-align: top;\n",
       "    }\n",
       "\n",
       "    .dataframe thead th {\n",
       "        text-align: right;\n",
       "    }\n",
       "</style>\n",
       "<table border=\"1\" class=\"dataframe\">\n",
       "  <thead>\n",
       "    <tr style=\"text-align: right;\">\n",
       "      <th></th>\n",
       "      <th>Tx_Fecun</th>\n",
       "      <th>idh_2000</th>\n",
       "      <th>Renda_per_capita</th>\n",
       "    </tr>\n",
       "  </thead>\n",
       "  <tbody>\n",
       "    <tr>\n",
       "      <th>count</th>\n",
       "      <td>415.000000</td>\n",
       "      <td>415.000000</td>\n",
       "      <td>415.000000</td>\n",
       "    </tr>\n",
       "    <tr>\n",
       "      <th>mean</th>\n",
       "      <td>3.025313</td>\n",
       "      <td>0.625648</td>\n",
       "      <td>93.226651</td>\n",
       "    </tr>\n",
       "    <tr>\n",
       "      <th>std</th>\n",
       "      <td>0.556274</td>\n",
       "      <td>0.042906</td>\n",
       "      <td>34.767369</td>\n",
       "    </tr>\n",
       "    <tr>\n",
       "      <th>min</th>\n",
       "      <td>1.687000</td>\n",
       "      <td>0.521000</td>\n",
       "      <td>40.515000</td>\n",
       "    </tr>\n",
       "    <tr>\n",
       "      <th>25%</th>\n",
       "      <td>2.630000</td>\n",
       "      <td>0.596000</td>\n",
       "      <td>72.708500</td>\n",
       "    </tr>\n",
       "    <tr>\n",
       "      <th>50%</th>\n",
       "      <td>2.949000</td>\n",
       "      <td>0.621000</td>\n",
       "      <td>84.638000</td>\n",
       "    </tr>\n",
       "    <tr>\n",
       "      <th>75%</th>\n",
       "      <td>3.379000</td>\n",
       "      <td>0.651000</td>\n",
       "      <td>103.037000</td>\n",
       "    </tr>\n",
       "    <tr>\n",
       "      <th>max</th>\n",
       "      <td>5.096000</td>\n",
       "      <td>0.805000</td>\n",
       "      <td>341.321000</td>\n",
       "    </tr>\n",
       "  </tbody>\n",
       "</table>\n",
       "</div>"
      ],
      "text/plain": [
       "         Tx_Fecun    idh_2000  Renda_per_capita\n",
       "count  415.000000  415.000000        415.000000\n",
       "mean     3.025313    0.625648         93.226651\n",
       "std      0.556274    0.042906         34.767369\n",
       "min      1.687000    0.521000         40.515000\n",
       "25%      2.630000    0.596000         72.708500\n",
       "50%      2.949000    0.621000         84.638000\n",
       "75%      3.379000    0.651000        103.037000\n",
       "max      5.096000    0.805000        341.321000"
      ]
     },
     "execution_count": 16,
     "metadata": {},
     "output_type": "execute_result"
    }
   ],
   "source": [
    "\n",
    "pyplot.hist(df['Tx_Fecun'], color='red', bins=15)\n",
    "pyplot.title('Histograma da variável resposta')\n",
    "pyplot.xlabel(\"Fecundidade\")\n",
    "pyplot.ylabel(\"Frequência\")\n",
    "pyplot.show()\n",
    "df.describe()\n"
   ]
  },
  {
   "cell_type": "code",
   "execution_count": 17,
   "id": "868c5836",
   "metadata": {},
   "outputs": [
    {
     "data": {
      "text/html": [
       "<table class=\"simpletable\">\n",
       "<caption>OLS Regression Results</caption>\n",
       "<tr>\n",
       "  <th>Dep. Variable:</th>        <td>Tx_Fecun</td>     <th>  R-squared:         </th> <td>   0.289</td>\n",
       "</tr>\n",
       "<tr>\n",
       "  <th>Model:</th>                   <td>OLS</td>       <th>  Adj. R-squared:    </th> <td>   0.287</td>\n",
       "</tr>\n",
       "<tr>\n",
       "  <th>Method:</th>             <td>Least Squares</td>  <th>  F-statistic:       </th> <td>   167.5</td>\n",
       "</tr>\n",
       "<tr>\n",
       "  <th>Date:</th>             <td>Mon, 21 Mar 2022</td> <th>  Prob (F-statistic):</th> <td>2.16e-32</td>\n",
       "</tr>\n",
       "<tr>\n",
       "  <th>Time:</th>                 <td>19:18:15</td>     <th>  Log-Likelihood:    </th> <td> -274.33</td>\n",
       "</tr>\n",
       "<tr>\n",
       "  <th>No. Observations:</th>      <td>   415</td>      <th>  AIC:               </th> <td>   552.7</td>\n",
       "</tr>\n",
       "<tr>\n",
       "  <th>Df Residuals:</th>          <td>   413</td>      <th>  BIC:               </th> <td>   560.7</td>\n",
       "</tr>\n",
       "<tr>\n",
       "  <th>Df Model:</th>              <td>     1</td>      <th>                     </th>     <td> </td>   \n",
       "</tr>\n",
       "<tr>\n",
       "  <th>Covariance Type:</th>      <td>nonrobust</td>    <th>                     </th>     <td> </td>   \n",
       "</tr>\n",
       "</table>\n",
       "<table class=\"simpletable\">\n",
       "<tr>\n",
       "      <td></td>         <th>coef</th>     <th>std err</th>      <th>t</th>      <th>P>|t|</th>  <th>[0.025</th>    <th>0.975]</th>  \n",
       "</tr>\n",
       "<tr>\n",
       "  <th>Intercept</th> <td>    7.3823</td> <td>    0.337</td> <td>   21.876</td> <td> 0.000</td> <td>    6.719</td> <td>    8.046</td>\n",
       "</tr>\n",
       "<tr>\n",
       "  <th>idh_2000</th>  <td>   -6.9639</td> <td>    0.538</td> <td>  -12.941</td> <td> 0.000</td> <td>   -8.022</td> <td>   -5.906</td>\n",
       "</tr>\n",
       "</table>\n",
       "<table class=\"simpletable\">\n",
       "<tr>\n",
       "  <th>Omnibus:</th>       <td>60.193</td> <th>  Durbin-Watson:     </th> <td>   2.099</td>\n",
       "</tr>\n",
       "<tr>\n",
       "  <th>Prob(Omnibus):</th> <td> 0.000</td> <th>  Jarque-Bera (JB):  </th> <td>  89.551</td>\n",
       "</tr>\n",
       "<tr>\n",
       "  <th>Skew:</th>          <td> 0.939</td> <th>  Prob(JB):          </th> <td>3.58e-20</td>\n",
       "</tr>\n",
       "<tr>\n",
       "  <th>Kurtosis:</th>      <td> 4.286</td> <th>  Cond. No.          </th> <td>    32.5</td>\n",
       "</tr>\n",
       "</table><br/><br/>Notes:<br/>[1] Standard Errors assume that the covariance matrix of the errors is correctly specified."
      ],
      "text/plain": [
       "<class 'statsmodels.iolib.summary.Summary'>\n",
       "\"\"\"\n",
       "                            OLS Regression Results                            \n",
       "==============================================================================\n",
       "Dep. Variable:               Tx_Fecun   R-squared:                       0.289\n",
       "Model:                            OLS   Adj. R-squared:                  0.287\n",
       "Method:                 Least Squares   F-statistic:                     167.5\n",
       "Date:                Mon, 21 Mar 2022   Prob (F-statistic):           2.16e-32\n",
       "Time:                        19:18:15   Log-Likelihood:                -274.33\n",
       "No. Observations:                 415   AIC:                             552.7\n",
       "Df Residuals:                     413   BIC:                             560.7\n",
       "Df Model:                           1                                         \n",
       "Covariance Type:            nonrobust                                         \n",
       "==============================================================================\n",
       "                 coef    std err          t      P>|t|      [0.025      0.975]\n",
       "------------------------------------------------------------------------------\n",
       "Intercept      7.3823      0.337     21.876      0.000       6.719       8.046\n",
       "idh_2000      -6.9639      0.538    -12.941      0.000      -8.022      -5.906\n",
       "==============================================================================\n",
       "Omnibus:                       60.193   Durbin-Watson:                   2.099\n",
       "Prob(Omnibus):                  0.000   Jarque-Bera (JB):               89.551\n",
       "Skew:                           0.939   Prob(JB):                     3.58e-20\n",
       "Kurtosis:                       4.286   Cond. No.                         32.5\n",
       "==============================================================================\n",
       "\n",
       "Notes:\n",
       "[1] Standard Errors assume that the covariance matrix of the errors is correctly specified.\n",
       "\"\"\""
      ]
     },
     "execution_count": 17,
     "metadata": {},
     "output_type": "execute_result"
    }
   ],
   "source": [
    "modelo = smf.ols('Tx_Fecun ~ idh_2000', df)\n",
    "#modelo = smf.ols('Renda_per_capita ~ Tx_Fecun', df)\n",
    "resultado = modelo.fit()\n",
    "resultado.summary()"
   ]
  },
  {
   "cell_type": "code",
   "execution_count": 18,
   "id": "35ccb988",
   "metadata": {},
   "outputs": [],
   "source": [
    "resultado.params\n",
    "## FEC_REND = 1,546-0,001147*Renda_per_Capita\n",
    "## FEC_IDH = 4,130 -3,724*IDH *\n",
    "## FEC_REND_IDH = 4.24 -3,90*IDH+0,000074Renda_per_capita\n",
    "y=4.130-3.724*df['idh_2000']"
   ]
  },
  {
   "cell_type": "code",
   "execution_count": 19,
   "id": "50a9ffbb",
   "metadata": {},
   "outputs": [
    {
     "data": {
      "text/plain": [
       "<matplotlib.collections.PathCollection at 0x1e232888f40>"
      ]
     },
     "execution_count": 19,
     "metadata": {},
     "output_type": "execute_result"
    },
    {
     "data": {
      "image/png": "[encoded data removed]",
      "text/plain": [
       "<Figure size 720x432 with 1 Axes>"
      ]
     },
     "metadata": {
      "needs_background": "light"
     },
     "output_type": "display_data"
    }
   ],
   "source": [
    "#pyplot.figure(figsize=(20,5))\n",
    "#plt.scatter(x, y, s=area, c=colors, alpha=0.5)\n",
    "pyplot.figure(figsize=(10, 6))\n",
    "pyplot.title(\"Gráfico Dispersão IDH X Fecundidade\")\n",
    "pyplot.xlabel(\"IDH\")\n",
    "pyplot.ylabel(\"Fecundidade\")\n",
    "pyplot.scatter(df['idh_2000'], df['Tx_Fecun'], s=100, c='green', alpha=0.6)\n",
    "#print(df['Tx_Fecun'])\n",
    "#print(var_idh)"
   ]
  },
  {
   "cell_type": "code",
   "execution_count": 20,
   "id": "ff26041e",
   "metadata": {},
   "outputs": [
    {
     "data": {
      "text/plain": [
       "-0.5371307769436398"
      ]
     },
     "execution_count": 20,
     "metadata": {},
     "output_type": "execute_result"
    }
   ],
   "source": [
    "df['idh_2000'].corr(df['Tx_Fecun'])"
   ]
  },
  {
   "cell_type": "code",
   "execution_count": 21,
   "id": "a78715c3",
   "metadata": {},
   "outputs": [],
   "source": [
    "test=fecundidade['Municipio']\n",
    "#print(test[5330])"
   ]
  },
  {
   "cell_type": "code",
   "execution_count": 22,
   "id": "f7d1925a",
   "metadata": {},
   "outputs": [
    {
     "name": "stdout",
     "output_type": "stream",
     "text": [
      "0      3,067\n",
      "1       2,18\n",
      "2      3,085\n",
      "3      3,208\n",
      "4       3,57\n",
      "       ...  \n",
      "416     3,07\n",
      "417    3,001\n",
      "418    3,837\n",
      "419    2,841\n",
      "420    2,614\n",
      "Name: Fec_2000, Length: 421, dtype: object\n"
     ]
    }
   ],
   "source": [
    "#y_hat = modelo.predict(var_tx_fecundidade)\n",
    "#modelo = smf.ols('Tx_Fecun ~ idh_2000', df)\n",
    "print(var_tx_fecundidade)"
   ]
  },
  {
   "cell_type": "code",
   "execution_count": 23,
   "id": "41a8b46b",
   "metadata": {},
   "outputs": [
    {
     "data": {
      "image/png": "[encoded data removed]",
      "text/plain": [
       "<Figure size 432x288 with 1 Axes>"
      ]
     },
     "metadata": {
      "needs_background": "light"
     },
     "output_type": "display_data"
    }
   ],
   "source": [
    "uhat=resultado.resid\n",
    "#y_hat = resultado.predict()\n",
    "#res = y - uhat\n",
    "pyplot.hist(uhat, color='orange', bins=15)\n",
    "pyplot.title('Histograma dos resíduos da regressão')\n",
    "pyplot.show()\n"
   ]
  },
  {
   "cell_type": "code",
   "execution_count": 24,
   "id": "ac89bb7e",
   "metadata": {},
   "outputs": [
    {
     "ename": "NameError",
     "evalue": "name 'res' is not defined",
     "output_type": "error",
     "traceback": [
      "\u001b[1;31m---------------------------------------------------------------------------\u001b[0m",
      "\u001b[1;31mNameError\u001b[0m                                 Traceback (most recent call last)",
      "\u001b[1;32m~\\AppData\\Local\\Temp/ipykernel_8112/3114910137.py\u001b[0m in \u001b[0;36m<module>\u001b[1;34m\u001b[0m\n\u001b[0;32m      1\u001b[0m \u001b[1;31m#pyplot.plot(uhat)\u001b[0m\u001b[1;33m\u001b[0m\u001b[1;33m\u001b[0m\u001b[0m\n\u001b[1;32m----> 2\u001b[1;33m \u001b[0mpyplot\u001b[0m\u001b[1;33m.\u001b[0m\u001b[0mscatter\u001b[0m\u001b[1;33m(\u001b[0m\u001b[0my\u001b[0m\u001b[1;33m=\u001b[0m\u001b[0mres\u001b[0m\u001b[1;33m,\u001b[0m \u001b[0mx\u001b[0m\u001b[1;33m=\u001b[0m\u001b[0muhat\u001b[0m\u001b[1;33m,\u001b[0m \u001b[0mcolor\u001b[0m\u001b[1;33m=\u001b[0m\u001b[1;34m'green'\u001b[0m\u001b[1;33m,\u001b[0m \u001b[0ms\u001b[0m\u001b[1;33m=\u001b[0m\u001b[1;36m50\u001b[0m\u001b[1;33m,\u001b[0m \u001b[0malpha\u001b[0m\u001b[1;33m=\u001b[0m\u001b[1;36m.6\u001b[0m\u001b[1;33m)\u001b[0m\u001b[1;33m\u001b[0m\u001b[1;33m\u001b[0m\u001b[0m\n\u001b[0m\u001b[0;32m      3\u001b[0m \u001b[0mpyplot\u001b[0m\u001b[1;33m.\u001b[0m\u001b[0mhlines\u001b[0m\u001b[1;33m(\u001b[0m\u001b[0my\u001b[0m\u001b[1;33m=\u001b[0m\u001b[1;36m0\u001b[0m\u001b[1;33m,\u001b[0m \u001b[0mxmin\u001b[0m\u001b[1;33m=\u001b[0m\u001b[1;33m-\u001b[0m\u001b[1;36m10\u001b[0m\u001b[1;33m,\u001b[0m \u001b[0mxmax\u001b[0m\u001b[1;33m=\u001b[0m\u001b[1;36m15\u001b[0m\u001b[1;33m,\u001b[0m \u001b[0mcolor\u001b[0m\u001b[1;33m=\u001b[0m\u001b[1;34m'orange'\u001b[0m\u001b[1;33m)\u001b[0m\u001b[1;33m\u001b[0m\u001b[1;33m\u001b[0m\u001b[0m\n\u001b[0;32m      4\u001b[0m \u001b[0mpyplot\u001b[0m\u001b[1;33m.\u001b[0m\u001b[0mylabel\u001b[0m\u001b[1;33m(\u001b[0m\u001b[1;34m'$\\epsilon = y - \\hat{y}$ - Resíduos'\u001b[0m\u001b[1;33m)\u001b[0m\u001b[1;33m\u001b[0m\u001b[1;33m\u001b[0m\u001b[0m\n\u001b[0;32m      5\u001b[0m \u001b[0mpyplot\u001b[0m\u001b[1;33m.\u001b[0m\u001b[0mxlabel\u001b[0m\u001b[1;33m(\u001b[0m\u001b[1;34m'$\\hat{y}$ ou $E(y)$ - Predito'\u001b[0m\u001b[1;33m)\u001b[0m\u001b[1;33m\u001b[0m\u001b[1;33m\u001b[0m\u001b[0m\n",
      "\u001b[1;31mNameError\u001b[0m: name 'res' is not defined"
     ]
    }
   ],
   "source": [
    "#pyplot.plot(uhat)\n",
    "pyplot.scatter(y=res, x=uhat, color='green', s=50, alpha=.6)\n",
    "pyplot.hlines(y=0, xmin=-10, xmax=15, color='orange')\n",
    "pyplot.ylabel('$\\epsilon = y - \\hat{y}$ - Resíduos')\n",
    "pyplot.xlabel('$\\hat{y}$ ou $E(y)$ - Predito')\n",
    "pyplot.show()"
   ]
  },
  {
   "cell_type": "code",
   "execution_count": null,
   "id": "525dd05a",
   "metadata": {},
   "outputs": [],
   "source": []
  }
 ],
 "metadata": {
  "kernelspec": {
   "display_name": "Python 3 (ipykernel)",
   "language": "python",
   "name": "python3"
  },
  "language_info": {
   "codemirror_mode": {
    "name": "ipython",
    "version": 3
   },
   "file_extension": ".py",
   "mimetype": "text/x-python",
   "name": "python",
   "nbconvert_exporter": "python",
   "pygments_lexer": "ipython3",
   "version": "3.9.7"
  }
 },
 "nbformat": 4,
 "nbformat_minor": 5
}
