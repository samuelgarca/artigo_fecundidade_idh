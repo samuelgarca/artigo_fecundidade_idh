{
 "cells": [
  {
   "cell_type": "code",
   "execution_count": 400,
   "id": "d53b2314",
   "metadata": {},
   "outputs": [],
   "source": [
    "########## CÉLULA 1 #######################################################################################\n",
    "# library import\n",
    "import pandas as pd\n",
    "import seaborn as sn\n",
    "import pandas\n",
    "import numpy\n",
    "import scipy\n",
    "import random\n",
    "import statsmodels as sm\n",
    "import csv\n",
    "from matplotlib import pyplot\n",
    "from random import randint\n",
    "import statsmodels.formula.api as smf\n",
    "import statistics\n",
    "from statsmodels.stats.diagnostic import het_white"
   ]
  },
  {
   "cell_type": "code",
   "execution_count": 337,
   "id": "4e024112",
   "metadata": {},
   "outputs": [],
   "source": [
    "########## CÉLULA 2 #######################################################################################\n",
    "# Importação e leitura dos dados\n",
    "renda_per_capita = pd.read_csv(\"renda_per_capita.csv\", sep=\";\")\n",
    "fecundidade = pd.read_csv(\"taxa_fecun.csv\", sep=\";\")\n",
    "idh = pd.read_csv(\"idh.csv\", sep=\";\")"
   ]
  },
  {
   "cell_type": "code",
   "execution_count": 338,
   "id": "0b2e439b",
   "metadata": {},
   "outputs": [
    {
     "data": {
      "text/html": [
       "<div>\n",
       "<style scoped>\n",
       "    .dataframe tbody tr th:only-of-type {\n",
       "        vertical-align: middle;\n",
       "    }\n",
       "\n",
       "    .dataframe tbody tr th {\n",
       "        vertical-align: top;\n",
       "    }\n",
       "\n",
       "    .dataframe thead th {\n",
       "        text-align: right;\n",
       "    }\n",
       "</style>\n",
       "<table border=\"1\" class=\"dataframe\">\n",
       "  <thead>\n",
       "    <tr style=\"text-align: right;\">\n",
       "      <th></th>\n",
       "      <th>Estado</th>\n",
       "      <th>Codigo</th>\n",
       "      <th>Municipio</th>\n",
       "      <th>Fec_1991</th>\n",
       "      <th>Fec_2000</th>\n",
       "    </tr>\n",
       "  </thead>\n",
       "  <tbody>\n",
       "    <tr>\n",
       "      <th>0</th>\n",
       "      <td>Sigla</td>\n",
       "      <td>Código</td>\n",
       "      <td>Município</td>\n",
       "      <td>1991</td>\n",
       "      <td>2000</td>\n",
       "    </tr>\n",
       "    <tr>\n",
       "      <th>1</th>\n",
       "      <td>AC</td>\n",
       "      <td>1200013</td>\n",
       "      <td>Acrelândia</td>\n",
       "      <td>4,887</td>\n",
       "      <td>4,355</td>\n",
       "    </tr>\n",
       "    <tr>\n",
       "      <th>2</th>\n",
       "      <td>AC</td>\n",
       "      <td>1200054</td>\n",
       "      <td>Assis Brasil</td>\n",
       "      <td>6,02</td>\n",
       "      <td>3,133</td>\n",
       "    </tr>\n",
       "    <tr>\n",
       "      <th>3</th>\n",
       "      <td>AC</td>\n",
       "      <td>1200104</td>\n",
       "      <td>Brasiléia</td>\n",
       "      <td>3,588</td>\n",
       "      <td>3,057</td>\n",
       "    </tr>\n",
       "    <tr>\n",
       "      <th>4</th>\n",
       "      <td>AC</td>\n",
       "      <td>1200138</td>\n",
       "      <td>Bujari</td>\n",
       "      <td>5,427</td>\n",
       "      <td>3,483</td>\n",
       "    </tr>\n",
       "  </tbody>\n",
       "</table>\n",
       "</div>"
      ],
      "text/plain": [
       "  Estado   Codigo     Municipio Fec_1991 Fec_2000\n",
       "0  Sigla   Código     Município     1991     2000\n",
       "1     AC  1200013    Acrelândia    4,887    4,355\n",
       "2     AC  1200054  Assis Brasil     6,02    3,133\n",
       "3     AC  1200104     Brasiléia    3,588    3,057\n",
       "4     AC  1200138        Bujari    5,427    3,483"
      ]
     },
     "execution_count": 338,
     "metadata": {},
     "output_type": "execute_result"
    }
   ],
   "source": [
    "########## CÉLULA 3 #######################################################################################\n",
    "## Reanomeando as colunas para melhor trabalhar\n",
    "fecundidade.rename(columns={'Taxa de fecundidade':'Estado','Unnamed: 1':'Codigo','Unnamed: 2':'Municipio','Unnamed: 3':'Fec_1991','Unnamed: 4':'Fec_2000'}, inplace = True)\n",
    "fecundidade.drop([0])\n",
    "fecundidade.head()"
   ]
  },
  {
   "cell_type": "code",
   "execution_count": 359,
   "id": "f4b5de82",
   "metadata": {},
   "outputs": [
    {
     "name": "stdout",
     "output_type": "stream",
     "text": [
      "O número do sorteio foi 4 e o estado equivalente a essa linha foi São Paulo\n"
     ]
    }
   ],
   "source": [
    "########## CÉLULA 4 #######################################################################################\n",
    "## Parte referente ao Sorteio da amostra.\n",
    "estados = [\"Acre\", \"Alagoas\",  \"Amapá\", \"Amazonas\", \"Bahia\", \"Ceará\", \"Espírito Santo\", \"Goiás\", \"Maranhão\", \"Mato Grosso\", \"Mato Grosso do Sul\", \"Minas Gerais\", \"Pará\", \"Paraíba\", \"Paraná\", \"Pernambuco\", \"Piauí\", \"Rio de Janeiro\", \"Rio Grande do Norte\", \"Rio Grande do Sul\", \"Rondônia\", \"Roraima\", \"Santa Catarina\", \"São Paulo\", \"Sergipe\", \"Tocantins\", \"Distrito Federal\"]\n",
    "num_sorteio=randint(0,26 )    ## Gera aleatoriamente um número entre 0 e 26 para identificar o estado\n",
    "random.shuffle(estados)       ## Embaralha a lista de estados\n",
    "estado_sel=estados[num_sorteio] ##Seleciona o estado escolhido\n",
    "print(\"O número do sorteio foi\",num_sorteio,\"e o estado equivalente a essa linha foi\",estado_sel)"
   ]
  },
  {
   "cell_type": "code",
   "execution_count": 360,
   "id": "632d2e89",
   "metadata": {},
   "outputs": [],
   "source": [
    "########## CÉLULA 5 #######################################################################################\n",
    "amostra_estados_fecun=fecundidade.loc[fecundidade['Estado']==\"SP\"] ##Seleciona a amostra do conjuto de estado"
   ]
  },
  {
   "cell_type": "code",
   "execution_count": 361,
   "id": "8fab053f",
   "metadata": {},
   "outputs": [
    {
     "name": "stdout",
     "output_type": "stream",
     "text": [
      "     Estado   Codigo         Municipio rend_1991 rend_2000\n",
      "4812     SP  3500105        Adamantina   274,462   354,976\n",
      "4813     SP  3500204            Adolfo   188,474   238,019\n",
      "4814     SP  3500303             Aguaí    207,71   308,123\n",
      "4815     SP  3500402    Águas da Prata   264,161   337,636\n",
      "4816     SP  3500501  Águas de Lindóia   246,354   402,516\n",
      "...     ...      ...               ...       ...       ...\n",
      "5453     SP  3557105       Votuporanga   265,155   415,653\n",
      "5454     SP  3557154          Zacarias   153,055   195,161\n",
      "5455     SP  3557204         Chavantes   181,337   272,364\n",
      "5456     SP  3557303      Estiva Gerbi   222,336   249,702\n",
      "5457     SP  3599919       Santo Amaro       NaN       NaN\n",
      "\n",
      "[646 rows x 5 columns]\n"
     ]
    }
   ],
   "source": [
    "########## CÉLULA 6 #######################################################################################\n",
    "## Renomeando os dados referente a renda\n",
    "renda_per_capita.rename(columns={'Renda per capita':'Estado','Unnamed: 1':'Codigo','Unnamed: 2':'Municipio','Unnamed: 3':'rend_1991','Unnamed: 4':'rend_2000'}, inplace = True)\n",
    "renda_per_capita.drop([0])\n",
    "amostra_estados_renda=renda_per_capita.loc[renda_per_capita['Estado']==\"SP\"] ##Seleciona a amostra do conjuto de estados\n",
    "print(amostra_estados_renda)"
   ]
  },
  {
   "cell_type": "code",
   "execution_count": 362,
   "id": "5cd8bdde",
   "metadata": {},
   "outputs": [],
   "source": [
    "########## CÉLULA 7 #######################################################################################\n",
    "#################### IDH ###################\n",
    "idh.rename(columns={'Índice de Desenvolvimento Humano Municipal-ed 2003':'Estado','Unnamed: 1':'Codigo','Unnamed: 2':'Municipio','Unnamed: 3':'idh_1991','Unnamed: 4':'idh_2000'}, inplace = True)\n",
    "idh.drop([0])\n",
    "amostra_estados_idh=idh.loc[idh['Estado']==\"SP\"] ##Seleciona a amostra do conjuto de estados\n",
    "mun_idh=amostra_estados_idh.sort_values('Municipio', ascending = True) ##Colocando em ordem alfabética\n",
    "var_idh=mun_idh.idh_2000\n",
    "#print(mun_idh)"
   ]
  },
  {
   "cell_type": "code",
   "execution_count": 363,
   "id": "3c8ae090",
   "metadata": {},
   "outputs": [],
   "source": [
    "########## CÉLULA 8 #######################################################################################\n",
    "mun_renda=amostra_estados_renda.sort_values('Municipio', ascending = True) ##Colocando em ordem alfabética\n",
    "mun_fecun=amostra_estados_fecun.sort_values('Municipio', ascending = True)"
   ]
  },
  {
   "cell_type": "code",
   "execution_count": 364,
   "id": "86cecd65",
   "metadata": {},
   "outputs": [
    {
     "name": "stdout",
     "output_type": "stream",
     "text": [
      "     Estado   Codigo           Municipio rend_1991 rend_2000\n",
      "4812     SP  3500105          Adamantina   274,462   354,976\n",
      "4813     SP  3500204              Adolfo   188,474   238,019\n",
      "4814     SP  3500303               Aguaí    207,71   308,123\n",
      "4819     SP  3500709              Agudos   209,126   266,321\n",
      "4820     SP  3500758            Alambari   173,714   210,688\n",
      "...     ...      ...                 ...       ...       ...\n",
      "4818     SP  3500600  Águas de São Pedro   578,264   954,649\n",
      "4826     SP  3501202    Álvares Florence   134,518   250,617\n",
      "4827     SP  3501301     Álvares Machado   184,534   257,505\n",
      "4828     SP  3501400  Álvaro de Carvalho   109,863   176,873\n",
      "5193     SP  3533809                Óleo   162,936   209,001\n",
      "\n",
      "[646 rows x 5 columns]\n",
      "     Estado   Codigo           Municipio Fec_1991 Fec_2000\n",
      "4812     SP  3500105          Adamantina    2,434     1,98\n",
      "4813     SP  3500204              Adolfo    2,948    2,024\n",
      "4814     SP  3500303               Aguaí    2,685    2,593\n",
      "4819     SP  3500709              Agudos     2,78     2,23\n",
      "4820     SP  3500758            Alambari    4,042    3,048\n",
      "...     ...      ...                 ...      ...      ...\n",
      "4818     SP  3500600  Águas de São Pedro    2,563     1,91\n",
      "4826     SP  3501202    Álvares Florence    2,118     1,94\n",
      "4827     SP  3501301     Álvares Machado    2,326    2,208\n",
      "4828     SP  3501400  Álvaro de Carvalho    2,911     2,74\n",
      "5193     SP  3533809                Óleo    2,912    2,445\n",
      "\n",
      "[646 rows x 5 columns]\n",
      "     Estado   Codigo           Municipio idh_1991 idh_2000\n",
      "4812     SP  3500105          Adamantina    0,751    0,812\n",
      "4813     SP  3500204              Adolfo    0,724    0,795\n",
      "4814     SP  3500303               Aguaí    0,726    0,786\n",
      "4819     SP  3500709              Agudos    0,724    0,786\n",
      "4820     SP  3500758            Alambari    0,691    0,748\n",
      "...     ...      ...                 ...      ...      ...\n",
      "4818     SP  3500600  Águas de São Pedro    0,848    0,908\n",
      "4826     SP  3501202    Álvares Florence    0,703    0,771\n",
      "4827     SP  3501301     Álvares Machado    0,729    0,772\n",
      "4828     SP  3501400  Álvaro de Carvalho    0,654     0,73\n",
      "5193     SP  3533809                Óleo    0,711    0,761\n",
      "\n",
      "[646 rows x 5 columns]\n"
     ]
    }
   ],
   "source": [
    "########## CÉLULA 9 #######################################################################################\n",
    "print(mun_renda)\n",
    "print(mun_fecun)\n",
    "print(mun_idh)"
   ]
  },
  {
   "cell_type": "code",
   "execution_count": 365,
   "id": "bb059699",
   "metadata": {},
   "outputs": [],
   "source": [
    "########## CÉLULA 10 #######################################################################################\n",
    "var_tx_fecundidade=mun_fecun.Fec_2000\n",
    "var_renda_per_capita=mun_renda.rend_2000\n",
    "#pd.to_numeric(var_tx_fecundidade, errors='ignore')\n",
    "#pd.to_numeric(var_renda_per_capita, errors='ignore')"
   ]
  },
  {
   "cell_type": "code",
   "execution_count": 366,
   "id": "1bbb7897",
   "metadata": {},
   "outputs": [
    {
     "name": "stdout",
     "output_type": "stream",
     "text": [
      "0       1,98\n",
      "1      2,024\n",
      "2      2,593\n",
      "3       2,23\n",
      "4      3,048\n",
      "       ...  \n",
      "641     1,91\n",
      "642     1,94\n",
      "643    2,208\n",
      "644     2,74\n",
      "645    2,445\n",
      "Name: Fec_2000, Length: 646, dtype: object\n"
     ]
    }
   ],
   "source": [
    "########## CÉLULA 11 #######################################################################################\n",
    "var_tx_fecundidade.reset_index(inplace=True, drop=True)\n",
    "var_renda_per_capita.reset_index(inplace=True, drop=True)\n",
    "print(var_tx_fecundidade)\n",
    "#print(var_idh)"
   ]
  },
  {
   "cell_type": "code",
   "execution_count": 367,
   "id": "b3974f5b",
   "metadata": {},
   "outputs": [
    {
     "data": {
      "text/plain": [
       "count      645\n",
       "unique     442\n",
       "top       1,94\n",
       "freq         8\n",
       "Name: Fec_2000, dtype: object"
      ]
     },
     "execution_count": 367,
     "metadata": {},
     "output_type": "execute_result"
    }
   ],
   "source": [
    "########## CÉLULA 12 #######################################################################################\n",
    "var_tx_fecundidade.describe()"
   ]
  },
  {
   "cell_type": "code",
   "execution_count": 368,
   "id": "d56bbeed",
   "metadata": {},
   "outputs": [
    {
     "data": {
      "text/html": [
       "<div>\n",
       "<style scoped>\n",
       "    .dataframe tbody tr th:only-of-type {\n",
       "        vertical-align: middle;\n",
       "    }\n",
       "\n",
       "    .dataframe tbody tr th {\n",
       "        vertical-align: top;\n",
       "    }\n",
       "\n",
       "    .dataframe thead th {\n",
       "        text-align: right;\n",
       "    }\n",
       "</style>\n",
       "<table border=\"1\" class=\"dataframe\">\n",
       "  <thead>\n",
       "    <tr style=\"text-align: right;\">\n",
       "      <th></th>\n",
       "      <th>Tx_Fecun</th>\n",
       "      <th>idh_2000</th>\n",
       "    </tr>\n",
       "  </thead>\n",
       "  <tbody>\n",
       "    <tr>\n",
       "      <th>0</th>\n",
       "      <td>1,98</td>\n",
       "      <td>0,812</td>\n",
       "    </tr>\n",
       "    <tr>\n",
       "      <th>1</th>\n",
       "      <td>2,024</td>\n",
       "      <td>0,795</td>\n",
       "    </tr>\n",
       "    <tr>\n",
       "      <th>2</th>\n",
       "      <td>2,593</td>\n",
       "      <td>0,786</td>\n",
       "    </tr>\n",
       "    <tr>\n",
       "      <th>3</th>\n",
       "      <td>2,23</td>\n",
       "      <td>0,786</td>\n",
       "    </tr>\n",
       "    <tr>\n",
       "      <th>4</th>\n",
       "      <td>3,048</td>\n",
       "      <td>0,748</td>\n",
       "    </tr>\n",
       "    <tr>\n",
       "      <th>...</th>\n",
       "      <td>...</td>\n",
       "      <td>...</td>\n",
       "    </tr>\n",
       "    <tr>\n",
       "      <th>641</th>\n",
       "      <td>1,91</td>\n",
       "      <td>0,908</td>\n",
       "    </tr>\n",
       "    <tr>\n",
       "      <th>642</th>\n",
       "      <td>1,94</td>\n",
       "      <td>0,771</td>\n",
       "    </tr>\n",
       "    <tr>\n",
       "      <th>643</th>\n",
       "      <td>2,208</td>\n",
       "      <td>0,772</td>\n",
       "    </tr>\n",
       "    <tr>\n",
       "      <th>644</th>\n",
       "      <td>2,74</td>\n",
       "      <td>0,73</td>\n",
       "    </tr>\n",
       "    <tr>\n",
       "      <th>645</th>\n",
       "      <td>2,445</td>\n",
       "      <td>0,761</td>\n",
       "    </tr>\n",
       "  </tbody>\n",
       "</table>\n",
       "<p>646 rows × 2 columns</p>\n",
       "</div>"
      ],
      "text/plain": [
       "    Tx_Fecun idh_2000\n",
       "0       1,98    0,812\n",
       "1      2,024    0,795\n",
       "2      2,593    0,786\n",
       "3       2,23    0,786\n",
       "4      3,048    0,748\n",
       "..       ...      ...\n",
       "641     1,91    0,908\n",
       "642     1,94    0,771\n",
       "643    2,208    0,772\n",
       "644     2,74     0,73\n",
       "645    2,445    0,761\n",
       "\n",
       "[646 rows x 2 columns]"
      ]
     },
     "metadata": {},
     "output_type": "display_data"
    }
   ],
   "source": [
    "########## CÉLULA 13 #######################################################################################\n",
    "df = pd.DataFrame(list(zip(var_tx_fecundidade,var_idh)), columns = ['Tx_Fecun','idh_2000']) ## Agrupa as variáveis\n",
    "display(df)"
   ]
  },
  {
   "cell_type": "code",
   "execution_count": 369,
   "id": "540e091b",
   "metadata": {},
   "outputs": [
    {
     "name": "stdout",
     "output_type": "stream",
     "text": [
      "<class 'pandas.core.frame.DataFrame'>\n",
      "<class 'pandas.core.frame.DataFrame'>\n",
      "RangeIndex: 646 entries, 0 to 645\n",
      "Data columns (total 2 columns):\n",
      " #   Column    Non-Null Count  Dtype  \n",
      "---  ------    --------------  -----  \n",
      " 0   Tx_Fecun  645 non-null    float64\n",
      " 1   idh_2000  645 non-null    float64\n",
      "dtypes: float64(2)\n",
      "memory usage: 10.2 KB\n"
     ]
    },
    {
     "data": {
      "text/html": [
       "<div>\n",
       "<style scoped>\n",
       "    .dataframe tbody tr th:only-of-type {\n",
       "        vertical-align: middle;\n",
       "    }\n",
       "\n",
       "    .dataframe tbody tr th {\n",
       "        vertical-align: top;\n",
       "    }\n",
       "\n",
       "    .dataframe thead th {\n",
       "        text-align: right;\n",
       "    }\n",
       "</style>\n",
       "<table border=\"1\" class=\"dataframe\">\n",
       "  <thead>\n",
       "    <tr style=\"text-align: right;\">\n",
       "      <th></th>\n",
       "      <th>Tx_Fecun</th>\n",
       "      <th>idh_2000</th>\n",
       "    </tr>\n",
       "  </thead>\n",
       "  <tbody>\n",
       "    <tr>\n",
       "      <th>0</th>\n",
       "      <td>1.980</td>\n",
       "      <td>0.812</td>\n",
       "    </tr>\n",
       "    <tr>\n",
       "      <th>1</th>\n",
       "      <td>2.024</td>\n",
       "      <td>0.795</td>\n",
       "    </tr>\n",
       "    <tr>\n",
       "      <th>2</th>\n",
       "      <td>2.593</td>\n",
       "      <td>0.786</td>\n",
       "    </tr>\n",
       "    <tr>\n",
       "      <th>3</th>\n",
       "      <td>2.230</td>\n",
       "      <td>0.786</td>\n",
       "    </tr>\n",
       "    <tr>\n",
       "      <th>4</th>\n",
       "      <td>3.048</td>\n",
       "      <td>0.748</td>\n",
       "    </tr>\n",
       "    <tr>\n",
       "      <th>...</th>\n",
       "      <td>...</td>\n",
       "      <td>...</td>\n",
       "    </tr>\n",
       "    <tr>\n",
       "      <th>641</th>\n",
       "      <td>1.910</td>\n",
       "      <td>0.908</td>\n",
       "    </tr>\n",
       "    <tr>\n",
       "      <th>642</th>\n",
       "      <td>1.940</td>\n",
       "      <td>0.771</td>\n",
       "    </tr>\n",
       "    <tr>\n",
       "      <th>643</th>\n",
       "      <td>2.208</td>\n",
       "      <td>0.772</td>\n",
       "    </tr>\n",
       "    <tr>\n",
       "      <th>644</th>\n",
       "      <td>2.740</td>\n",
       "      <td>0.730</td>\n",
       "    </tr>\n",
       "    <tr>\n",
       "      <th>645</th>\n",
       "      <td>2.445</td>\n",
       "      <td>0.761</td>\n",
       "    </tr>\n",
       "  </tbody>\n",
       "</table>\n",
       "<p>646 rows × 2 columns</p>\n",
       "</div>"
      ],
      "text/plain": [
       "     Tx_Fecun  idh_2000\n",
       "0       1.980     0.812\n",
       "1       2.024     0.795\n",
       "2       2.593     0.786\n",
       "3       2.230     0.786\n",
       "4       3.048     0.748\n",
       "..        ...       ...\n",
       "641     1.910     0.908\n",
       "642     1.940     0.771\n",
       "643     2.208     0.772\n",
       "644     2.740     0.730\n",
       "645     2.445     0.761\n",
       "\n",
       "[646 rows x 2 columns]"
      ]
     },
     "metadata": {},
     "output_type": "display_data"
    }
   ],
   "source": [
    "########## CÉLULA 14 #######################################################################################\n",
    "df['Tx_Fecun'] = df['Tx_Fecun'].str.replace(',', '.') ##Substituindo vírgula por ponto\n",
    "df['idh_2000'] = df['idh_2000'].str.replace(',', '.') ##Substituindo vírgula por ponto\n",
    "print(type(df))\n",
    "df['Tx_Fecun'] = df['Tx_Fecun'].astype(float)         ##Convertendo em float\n",
    "df['idh_2000'] = df['idh_2000'].astype(float)         ##Convertendo em float\n",
    "df.info()\n",
    "display(df)"
   ]
  },
  {
   "cell_type": "code",
   "execution_count": 370,
   "id": "17434ec2",
   "metadata": {},
   "outputs": [],
   "source": [
    "########## CÉLULA 15 #######################################################################################\n",
    "df['Tx_Fecun_log']= numpy.log2(df['Tx_Fecun']) # Aplica log de base2\n"
   ]
  },
  {
   "cell_type": "code",
   "execution_count": 371,
   "id": "8dcace6c",
   "metadata": {},
   "outputs": [
    {
     "data": {
      "text/html": [
       "<div>\n",
       "<style scoped>\n",
       "    .dataframe tbody tr th:only-of-type {\n",
       "        vertical-align: middle;\n",
       "    }\n",
       "\n",
       "    .dataframe tbody tr th {\n",
       "        vertical-align: top;\n",
       "    }\n",
       "\n",
       "    .dataframe thead th {\n",
       "        text-align: right;\n",
       "    }\n",
       "</style>\n",
       "<table border=\"1\" class=\"dataframe\">\n",
       "  <thead>\n",
       "    <tr style=\"text-align: right;\">\n",
       "      <th></th>\n",
       "      <th>Tx_Fecun</th>\n",
       "      <th>idh_2000</th>\n",
       "      <th>Tx_Fecun_log</th>\n",
       "    </tr>\n",
       "  </thead>\n",
       "  <tbody>\n",
       "    <tr>\n",
       "      <th>0</th>\n",
       "      <td>1.980</td>\n",
       "      <td>0.812</td>\n",
       "      <td>0.985500</td>\n",
       "    </tr>\n",
       "    <tr>\n",
       "      <th>1</th>\n",
       "      <td>2.024</td>\n",
       "      <td>0.795</td>\n",
       "      <td>1.017209</td>\n",
       "    </tr>\n",
       "    <tr>\n",
       "      <th>2</th>\n",
       "      <td>2.593</td>\n",
       "      <td>0.786</td>\n",
       "      <td>1.374622</td>\n",
       "    </tr>\n",
       "    <tr>\n",
       "      <th>3</th>\n",
       "      <td>2.230</td>\n",
       "      <td>0.786</td>\n",
       "      <td>1.157044</td>\n",
       "    </tr>\n",
       "    <tr>\n",
       "      <th>4</th>\n",
       "      <td>3.048</td>\n",
       "      <td>0.748</td>\n",
       "      <td>1.607863</td>\n",
       "    </tr>\n",
       "  </tbody>\n",
       "</table>\n",
       "</div>"
      ],
      "text/plain": [
       "   Tx_Fecun  idh_2000  Tx_Fecun_log\n",
       "0     1.980     0.812      0.985500\n",
       "1     2.024     0.795      1.017209\n",
       "2     2.593     0.786      1.374622\n",
       "3     2.230     0.786      1.157044\n",
       "4     3.048     0.748      1.607863"
      ]
     },
     "execution_count": 371,
     "metadata": {},
     "output_type": "execute_result"
    }
   ],
   "source": [
    "########## CÉLULA 16 #######################################################################################\n",
    "df.head()"
   ]
  },
  {
   "cell_type": "code",
   "execution_count": 372,
   "id": "2d15a387",
   "metadata": {},
   "outputs": [
    {
     "data": {
      "image/png": "[encoded data removed]",
      "text/plain": [
       "<Figure size 432x288 with 1 Axes>"
      ]
     },
     "metadata": {
      "needs_background": "light"
     },
     "output_type": "display_data"
    },
    {
     "data": {
      "text/html": [
       "<div>\n",
       "<style scoped>\n",
       "    .dataframe tbody tr th:only-of-type {\n",
       "        vertical-align: middle;\n",
       "    }\n",
       "\n",
       "    .dataframe tbody tr th {\n",
       "        vertical-align: top;\n",
       "    }\n",
       "\n",
       "    .dataframe thead th {\n",
       "        text-align: right;\n",
       "    }\n",
       "</style>\n",
       "<table border=\"1\" class=\"dataframe\">\n",
       "  <thead>\n",
       "    <tr style=\"text-align: right;\">\n",
       "      <th></th>\n",
       "      <th>Tx_Fecun</th>\n",
       "      <th>idh_2000</th>\n",
       "      <th>Tx_Fecun_log</th>\n",
       "    </tr>\n",
       "  </thead>\n",
       "  <tbody>\n",
       "    <tr>\n",
       "      <th>count</th>\n",
       "      <td>645.000000</td>\n",
       "      <td>645.000000</td>\n",
       "      <td>645.000000</td>\n",
       "    </tr>\n",
       "    <tr>\n",
       "      <th>mean</th>\n",
       "      <td>2.374112</td>\n",
       "      <td>0.779149</td>\n",
       "      <td>1.228666</td>\n",
       "    </tr>\n",
       "    <tr>\n",
       "      <th>std</th>\n",
       "      <td>0.397481</td>\n",
       "      <td>0.033818</td>\n",
       "      <td>0.228914</td>\n",
       "    </tr>\n",
       "    <tr>\n",
       "      <th>min</th>\n",
       "      <td>1.564000</td>\n",
       "      <td>0.645000</td>\n",
       "      <td>0.645241</td>\n",
       "    </tr>\n",
       "    <tr>\n",
       "      <th>25%</th>\n",
       "      <td>2.064000</td>\n",
       "      <td>0.758000</td>\n",
       "      <td>1.045443</td>\n",
       "    </tr>\n",
       "    <tr>\n",
       "      <th>50%</th>\n",
       "      <td>2.312000</td>\n",
       "      <td>0.779000</td>\n",
       "      <td>1.209141</td>\n",
       "    </tr>\n",
       "    <tr>\n",
       "      <th>75%</th>\n",
       "      <td>2.578000</td>\n",
       "      <td>0.802000</td>\n",
       "      <td>1.366252</td>\n",
       "    </tr>\n",
       "    <tr>\n",
       "      <th>max</th>\n",
       "      <td>4.323000</td>\n",
       "      <td>0.919000</td>\n",
       "      <td>2.112033</td>\n",
       "    </tr>\n",
       "  </tbody>\n",
       "</table>\n",
       "</div>"
      ],
      "text/plain": [
       "         Tx_Fecun    idh_2000  Tx_Fecun_log\n",
       "count  645.000000  645.000000    645.000000\n",
       "mean     2.374112    0.779149      1.228666\n",
       "std      0.397481    0.033818      0.228914\n",
       "min      1.564000    0.645000      0.645241\n",
       "25%      2.064000    0.758000      1.045443\n",
       "50%      2.312000    0.779000      1.209141\n",
       "75%      2.578000    0.802000      1.366252\n",
       "max      4.323000    0.919000      2.112033"
      ]
     },
     "execution_count": 372,
     "metadata": {},
     "output_type": "execute_result"
    }
   ],
   "source": [
    "########## CÉLULA 17 #######################################################################################\n",
    "pyplot.hist(df['Tx_Fecun'], color='red', bins=15)\n",
    "pyplot.title('Histograma da variável resposta')\n",
    "pyplot.xlabel(\"Fecundidade\")\n",
    "pyplot.ylabel(\"Frequência\")\n",
    "pyplot.show()\n",
    "df.describe()"
   ]
  },
  {
   "cell_type": "code",
   "execution_count": 373,
   "id": "b1a9bdbe",
   "metadata": {},
   "outputs": [
    {
     "data": {
      "image/png": "[encoded data removed]",
      "text/plain": [
       "<Figure size 432x288 with 1 Axes>"
      ]
     },
     "metadata": {
      "needs_background": "light"
     },
     "output_type": "display_data"
    },
    {
     "data": {
      "text/plain": [
       "count    645.000000\n",
       "mean       1.228666\n",
       "std        0.228914\n",
       "min        0.645241\n",
       "25%        1.045443\n",
       "50%        1.209141\n",
       "75%        1.366252\n",
       "max        2.112033\n",
       "Name: Tx_Fecun, dtype: float64"
      ]
     },
     "execution_count": 373,
     "metadata": {},
     "output_type": "execute_result"
    }
   ],
   "source": [
    "########## CÉLULA 18 #######################################################################################\n",
    "pyplot.hist(df['Tx_Fecun_log'], color='blue', bins=15)\n",
    "pyplot.title('Histograma da variável resposta em Log 2')\n",
    "pyplot.xlabel(\"Log² Fecundidade\")\n",
    "pyplot.ylabel(\"Frequência\")\n",
    "dflog.describe()\n",
    "pyplot.show()\n",
    "dflog.describe()\n"
   ]
  },
  {
   "cell_type": "code",
   "execution_count": 374,
   "id": "868c5836",
   "metadata": {},
   "outputs": [
    {
     "data": {
      "text/html": [
       "<table class=\"simpletable\">\n",
       "<caption>OLS Regression Results</caption>\n",
       "<tr>\n",
       "  <th>Dep. Variable:</th>      <td>Tx_Fecun_log</td>   <th>  R-squared:         </th> <td>   0.303</td>\n",
       "</tr>\n",
       "<tr>\n",
       "  <th>Model:</th>                   <td>OLS</td>       <th>  Adj. R-squared:    </th> <td>   0.302</td>\n",
       "</tr>\n",
       "<tr>\n",
       "  <th>Method:</th>             <td>Least Squares</td>  <th>  F-statistic:       </th> <td>   279.2</td>\n",
       "</tr>\n",
       "<tr>\n",
       "  <th>Date:</th>             <td>Tue, 22 Mar 2022</td> <th>  Prob (F-statistic):</th> <td>2.58e-52</td>\n",
       "</tr>\n",
       "<tr>\n",
       "  <th>Time:</th>                 <td>22:35:23</td>     <th>  Log-Likelihood:    </th> <td>  152.56</td>\n",
       "</tr>\n",
       "<tr>\n",
       "  <th>No. Observations:</th>      <td>   645</td>      <th>  AIC:               </th> <td>  -301.1</td>\n",
       "</tr>\n",
       "<tr>\n",
       "  <th>Df Residuals:</th>          <td>   643</td>      <th>  BIC:               </th> <td>  -292.2</td>\n",
       "</tr>\n",
       "<tr>\n",
       "  <th>Df Model:</th>              <td>     1</td>      <th>                     </th>     <td> </td>   \n",
       "</tr>\n",
       "<tr>\n",
       "  <th>Covariance Type:</th>      <td>nonrobust</td>    <th>                     </th>     <td> </td>   \n",
       "</tr>\n",
       "</table>\n",
       "<table class=\"simpletable\">\n",
       "<tr>\n",
       "      <td></td>         <th>coef</th>     <th>std err</th>      <th>t</th>      <th>P>|t|</th>  <th>[0.025</th>    <th>0.975]</th>  \n",
       "</tr>\n",
       "<tr>\n",
       "  <th>Intercept</th> <td>    4.1304</td> <td>    0.174</td> <td>   23.760</td> <td> 0.000</td> <td>    3.789</td> <td>    4.472</td>\n",
       "</tr>\n",
       "<tr>\n",
       "  <th>idh_2000</th>  <td>   -3.7242</td> <td>    0.223</td> <td>  -16.708</td> <td> 0.000</td> <td>   -4.162</td> <td>   -3.287</td>\n",
       "</tr>\n",
       "</table>\n",
       "<table class=\"simpletable\">\n",
       "<tr>\n",
       "  <th>Omnibus:</th>       <td> 5.004</td> <th>  Durbin-Watson:     </th> <td>   1.919</td>\n",
       "</tr>\n",
       "<tr>\n",
       "  <th>Prob(Omnibus):</th> <td> 0.082</td> <th>  Jarque-Bera (JB):  </th> <td>   4.817</td>\n",
       "</tr>\n",
       "<tr>\n",
       "  <th>Skew:</th>          <td> 0.172</td> <th>  Prob(JB):          </th> <td>  0.0899</td>\n",
       "</tr>\n",
       "<tr>\n",
       "  <th>Kurtosis:</th>      <td> 2.752</td> <th>  Cond. No.          </th> <td>    47.6</td>\n",
       "</tr>\n",
       "</table><br/><br/>Notes:<br/>[1] Standard Errors assume that the covariance matrix of the errors is correctly specified."
      ],
      "text/plain": [
       "<class 'statsmodels.iolib.summary.Summary'>\n",
       "\"\"\"\n",
       "                            OLS Regression Results                            \n",
       "==============================================================================\n",
       "Dep. Variable:           Tx_Fecun_log   R-squared:                       0.303\n",
       "Model:                            OLS   Adj. R-squared:                  0.302\n",
       "Method:                 Least Squares   F-statistic:                     279.2\n",
       "Date:                Tue, 22 Mar 2022   Prob (F-statistic):           2.58e-52\n",
       "Time:                        22:35:23   Log-Likelihood:                 152.56\n",
       "No. Observations:                 645   AIC:                            -301.1\n",
       "Df Residuals:                     643   BIC:                            -292.2\n",
       "Df Model:                           1                                         \n",
       "Covariance Type:            nonrobust                                         \n",
       "==============================================================================\n",
       "                 coef    std err          t      P>|t|      [0.025      0.975]\n",
       "------------------------------------------------------------------------------\n",
       "Intercept      4.1304      0.174     23.760      0.000       3.789       4.472\n",
       "idh_2000      -3.7242      0.223    -16.708      0.000      -4.162      -3.287\n",
       "==============================================================================\n",
       "Omnibus:                        5.004   Durbin-Watson:                   1.919\n",
       "Prob(Omnibus):                  0.082   Jarque-Bera (JB):                4.817\n",
       "Skew:                           0.172   Prob(JB):                       0.0899\n",
       "Kurtosis:                       2.752   Cond. No.                         47.6\n",
       "==============================================================================\n",
       "\n",
       "Notes:\n",
       "[1] Standard Errors assume that the covariance matrix of the errors is correctly specified.\n",
       "\"\"\""
      ]
     },
     "execution_count": 374,
     "metadata": {},
     "output_type": "execute_result"
    }
   ],
   "source": [
    "########## CÉLULA 19 #######################################################################################\n",
    "modelo = smf.ols('Tx_Fecun_log ~ idh_2000', df)\n",
    "#modelo = smf.ols('Renda_per_capita ~ Tx_Fecun', df)\n",
    "resultado = modelo.fit()\n",
    "resultado.summary()"
   ]
  },
  {
   "cell_type": "code",
   "execution_count": 375,
   "id": "d60deef9",
   "metadata": {},
   "outputs": [
    {
     "data": {
      "text/plain": [
       "Intercept    4.130403\n",
       "idh_2000    -3.724239\n",
       "dtype: float64"
      ]
     },
     "execution_count": 375,
     "metadata": {},
     "output_type": "execute_result"
    }
   ],
   "source": [
    "########## CÉLULA 20 #######################################################################################\n",
    "resultado.params ### Parâmetro do Modelo"
   ]
  },
  {
   "cell_type": "code",
   "execution_count": 376,
   "id": "35ccb988",
   "metadata": {},
   "outputs": [
    {
     "name": "stdout",
     "output_type": "stream",
     "text": [
      "0      1.106112\n",
      "1      1.169420\n",
      "2      1.202936\n",
      "3      1.202936\n",
      "4      1.344448\n",
      "         ...   \n",
      "641    0.748608\n",
      "642    1.258796\n",
      "643    1.255072\n",
      "644    1.411480\n",
      "645    1.296036\n",
      "Name: idh_2000, Length: 646, dtype: float64\n"
     ]
    }
   ],
   "source": [
    "########## CÉLULA 21 #######################################################################################\n",
    "## FEC_IDH = 4,130 -3,724*IDH *\n",
    "y=4.130-3.724*df['idh_2000']\n",
    "print(y)"
   ]
  },
  {
   "cell_type": "code",
   "execution_count": 377,
   "id": "f66404e2",
   "metadata": {},
   "outputs": [
    {
     "data": {
      "image/png": "[encoded data removed]",
      "text/plain": [
       "<Figure size 432x288 with 1 Axes>"
      ]
     },
     "metadata": {
      "needs_background": "light"
     },
     "output_type": "display_data"
    },
    {
     "data": {
      "text/plain": [
       "count    645.000000\n",
       "mean       0.000217\n",
       "std        0.191151\n",
       "min       -0.482628\n",
       "25%       -0.131687\n",
       "50%        0.002507\n",
       "75%        0.115313\n",
       "max        0.541517\n",
       "dtype: float64"
      ]
     },
     "execution_count": 377,
     "metadata": {},
     "output_type": "execute_result"
    }
   ],
   "source": [
    "########## CÉLULA 22 #######################################################################################\n",
    "residuos=df['Tx_Fecun_log'] - y\n",
    "pyplot.hist(residuos, color='orange', bins=15)\n",
    "pyplot.title('Histograma dos resíduos da regressão')\n",
    "pyplot.show()\n",
    "residuos.describe()"
   ]
  },
  {
   "cell_type": "code",
   "execution_count": 397,
   "id": "c211f3ce",
   "metadata": {},
   "outputs": [
    {
     "name": "stdout",
     "output_type": "stream",
     "text": [
      "Jarque_beraResult(statistic=nan, pvalue=nan)\n"
     ]
    }
   ],
   "source": [
    "########## CÉLULA 23 #######################################################################################\n",
    "jarque_b = scipy.stats.jarque_bera(df['idh_2000'])\n",
    "print(jarque_b)"
   ]
  },
  {
   "cell_type": "code",
   "execution_count": 379,
   "id": "212a9757",
   "metadata": {},
   "outputs": [
    {
     "data": {
      "text/plain": [
       "-4.2288375604781475e-05"
      ]
     },
     "execution_count": 379,
     "metadata": {},
     "output_type": "execute_result"
    }
   ],
   "source": [
    "########## CÉLULA 24 #######################################################################################\n",
    "residuos.corr(df['idh_2000'])\n",
    "#0.000042288\n"
   ]
  },
  {
   "cell_type": "code",
   "execution_count": 380,
   "id": "8e0c38dd",
   "metadata": {},
   "outputs": [
    {
     "name": "stdout",
     "output_type": "stream",
     "text": [
      "nan\n"
     ]
    }
   ],
   "source": [
    "########## CÉLULA 25 #######################################################################################\n",
    "var_res= statistics.variance(residuos)\n",
    "print(var_res)"
   ]
  },
  {
   "cell_type": "code",
   "execution_count": 381,
   "id": "50a9ffbb",
   "metadata": {},
   "outputs": [
    {
     "data": {
      "text/plain": [
       "<matplotlib.collections.PathCollection at 0x2993c745c10>"
      ]
     },
     "execution_count": 381,
     "metadata": {},
     "output_type": "execute_result"
    },
    {
     "data": {
      "image/png": "[encoded data removed]",
      "text/plain": [
       "<Figure size 720x432 with 1 Axes>"
      ]
     },
     "metadata": {
      "needs_background": "light"
     },
     "output_type": "display_data"
    }
   ],
   "source": [
    "########## CÉLULA 26 #######################################################################################\n",
    "#pyplot.figure(figsize=(20,5))\n",
    "#plt.scatter(x, y, s=area, c=colors, alpha=0.5)\n",
    "pyplot.figure(figsize=(10, 6))\n",
    "pyplot.title(\"Gráfico Dispersão IDH X Fecundidade\")\n",
    "pyplot.xlabel(\"IDH\")\n",
    "pyplot.ylabel(\"Fecundidade\")\n",
    "pyplot.scatter(df['idh_2000'], df['Tx_Fecun'], s=100, c='green', alpha=0.6)\n",
    "#print(df['Tx_Fecun'])\n",
    "#print(var_idh)"
   ]
  },
  {
   "cell_type": "code",
   "execution_count": 382,
   "id": "ff26041e",
   "metadata": {},
   "outputs": [
    {
     "data": {
      "text/plain": [
       "-0.554037020969888"
      ]
     },
     "execution_count": 382,
     "metadata": {},
     "output_type": "execute_result"
    }
   ],
   "source": [
    "########## CÉLULA 26 #######################################################################################\n",
    "df['idh_2000'].corr(df['Tx_Fecun'])"
   ]
  },
  {
   "cell_type": "code",
   "execution_count": 383,
   "id": "a78715c3",
   "metadata": {},
   "outputs": [],
   "source": [
    "########## CÉLULA 27 #######################################################################################\n",
    "test=fecundidade['Municipio']\n"
   ]
  },
  {
   "cell_type": "code",
   "execution_count": 384,
   "id": "41a8b46b",
   "metadata": {},
   "outputs": [
    {
     "data": {
      "image/png": "[encoded data removed]",
      "text/plain": [
       "<Figure size 432x288 with 1 Axes>"
      ]
     },
     "metadata": {
      "needs_background": "light"
     },
     "output_type": "display_data"
    },
    {
     "name": "stdout",
     "output_type": "stream",
     "text": [
      "0     -0.120820\n",
      "1     -0.152423\n",
      "2      0.171471\n",
      "3     -0.046107\n",
      "4      0.263191\n",
      "         ...   \n",
      "641    0.184779\n",
      "642   -0.302958\n",
      "643   -0.112550\n",
      "644    0.042468\n",
      "645   -0.006422\n",
      "Length: 645, dtype: float64\n",
      "0     -0.120612\n",
      "1     -0.152211\n",
      "2      0.171686\n",
      "3     -0.045892\n",
      "4      0.263415\n",
      "         ...   \n",
      "641    0.184965\n",
      "642   -0.302739\n",
      "643   -0.112332\n",
      "644    0.042696\n",
      "645   -0.006202\n",
      "Length: 646, dtype: float64\n"
     ]
    }
   ],
   "source": [
    "########## CÉLULA 28 #######################################################################################\n",
    "uhat=resultado.resid\n",
    "pyplot.hist(uhat, color='orange', bins=15)\n",
    "pyplot.title('Histograma dos resíduos da regressão')\n",
    "pyplot.show()\n",
    "print(uhat)\n",
    "print(residuos)\n"
   ]
  },
  {
   "cell_type": "code",
   "execution_count": 385,
   "id": "5d43541e",
   "metadata": {},
   "outputs": [
    {
     "data": {
      "image/png": "[encoded data removed]",
      "text/plain": [
       "<Figure size 432x288 with 1 Axes>"
      ]
     },
     "metadata": {
      "needs_background": "light"
     },
     "output_type": "display_data"
    },
    {
     "data": {
      "text/plain": [
       "count    645.000000\n",
       "mean       1.228666\n",
       "std        0.228914\n",
       "min        0.645241\n",
       "25%        1.045443\n",
       "50%        1.209141\n",
       "75%        1.366252\n",
       "max        2.112033\n",
       "Name: Tx_Fecun, dtype: float64"
      ]
     },
     "execution_count": 385,
     "metadata": {},
     "output_type": "execute_result"
    }
   ],
   "source": [
    "########## CÉLULA 29 #######################################################################################\n",
    "pyplot.hist(dflog, color='blue', bins=15)\n",
    "pyplot.title('Histograma da variável resposta em Log 2')\n",
    "pyplot.xlabel(\"Log² Fecundidade\")\n",
    "pyplot.ylabel(\"Frequência\")\n",
    "dflog.describe()\n",
    "pyplot.show()\n",
    "dflog.describe()\n"
   ]
  },
  {
   "cell_type": "code",
   "execution_count": 389,
   "id": "ac89bb7e",
   "metadata": {},
   "outputs": [
    {
     "data": {
      "image/png": "[encoded data removed]",
      "text/plain": [
       "<Figure size 432x288 with 1 Axes>"
      ]
     },
     "metadata": {
      "needs_background": "light"
     },
     "output_type": "display_data"
    },
    {
     "data": {
      "text/plain": [
       "count    645.000000\n",
       "mean       0.779149\n",
       "std        0.033818\n",
       "min        0.645000\n",
       "25%        0.758000\n",
       "50%        0.779000\n",
       "75%        0.802000\n",
       "max        0.919000\n",
       "Name: idh_2000, dtype: float64"
      ]
     },
     "execution_count": 389,
     "metadata": {},
     "output_type": "execute_result"
    }
   ],
   "source": [
    "########## CÉLULA 30 #######################################################################################\n",
    "pyplot.hist(df['idh_2000'], color='blue', bins=15)\n",
    "pyplot.title('Histograma da variável Independente')\n",
    "pyplot.xlabel(\"IDH\")\n",
    "pyplot.ylabel(\"Frequência\")\n",
    "dflog.describe()\n",
    "pyplot.show()\n",
    "df['idh_2000'].describe()\n"
   ]
  },
  {
   "cell_type": "code",
   "execution_count": 406,
   "id": "525dd05a",
   "metadata": {},
   "outputs": [
    {
     "name": "stdout",
     "output_type": "stream",
     "text": [
      "{'Test Statistic': 40.99951766671461, 'Test Statistic p-value': 1.2504543979145963e-09, 'F-Statistic': 21.789461359657142, 'F-Test p-value': 6.987152564760855e-10}\n"
     ]
    }
   ],
   "source": [
    "########## CÉLULA 31 #######################################################################################\n",
    "white_test = het_white(resultado.resid,  resultado.model.exog)\n",
    "labels = ['Test Statistic', 'Test Statistic p-value', 'F-Statistic', 'F-Test p-value']\n",
    "print(dict(zip(labels, white_test)))\n"
   ]
  },
  {
   "cell_type": "code",
   "execution_count": null,
   "id": "6333ed85",
   "metadata": {},
   "outputs": [],
   "source": []
  }
 ],
 "metadata": {
  "kernelspec": {
   "display_name": "Python 3 (ipykernel)",
   "language": "python",
   "name": "python3"
  },
  "language_info": {
   "codemirror_mode": {
    "name": "ipython",
    "version": 3
   },
   "file_extension": ".py",
   "mimetype": "text/x-python",
   "name": "python",
   "nbconvert_exporter": "python",
   "pygments_lexer": "ipython3",
   "version": "3.9.7"
  }
 },
 "nbformat": 4,
 "nbformat_minor": 5
}
